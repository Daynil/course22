{
 "cells": [
  {
   "cell_type": "code",
   "execution_count": 1,
   "metadata": {},
   "outputs": [],
   "source": [
    "import fastai.data.all as fai_data\n",
    "import fastai.vision.all as fai_vision\n",
    "import torch\n",
    "import torchvision\n",
    "from matplotlib import pyplot as plt"
   ]
  },
  {
   "cell_type": "code",
   "execution_count": 2,
   "metadata": {},
   "outputs": [
    {
     "data": {
      "text/plain": [
       "'cuda'"
      ]
     },
     "execution_count": 2,
     "metadata": {},
     "output_type": "execute_result"
    }
   ],
   "source": [
    "device = \"cuda\" if torch.cuda.is_available() else \"cpu\"\n",
    "device"
   ]
  },
  {
   "cell_type": "code",
   "execution_count": 3,
   "metadata": {},
   "outputs": [
    {
     "data": {
      "text/plain": [
       "Path('/home/daynil/.fastai/data/mnist_png')"
      ]
     },
     "execution_count": 3,
     "metadata": {},
     "output_type": "execute_result"
    }
   ],
   "source": [
    "path = fai_data.untar_data(fai_data.URLs.MNIST)\n",
    "path"
   ]
  },
  {
   "cell_type": "code",
   "execution_count": 4,
   "metadata": {},
   "outputs": [],
   "source": [
    "dls = fai_vision.DataBlock(\n",
    "    blocks=(fai_vision.ImageBlock, fai_vision.MultiCategoryBlock),\n",
    "    get_items=fai_vision.get_image_files,\n",
    "    splitter=fai_vision.GrandparentSplitter('training', 'testing'),\n",
    "    get_y=fai_vision.parent_label\n",
    ").dataloaders(path)"
   ]
  },
  {
   "cell_type": "code",
   "execution_count": 5,
   "metadata": {},
   "outputs": [
    {
     "data": {
      "image/png": "[encoded data removed]",
      "text/plain": [
       "<Figure size 900x600 with 6 Axes>"
      ]
     },
     "metadata": {},
     "output_type": "display_data"
    }
   ],
   "source": [
    "dls.show_batch(max_n=6)"
   ]
  },
  {
   "cell_type": "code",
   "execution_count": 6,
   "metadata": {},
   "outputs": [
    {
     "data": {
      "text/plain": [
       "torch.Size([64, 3, 28, 28])"
      ]
     },
     "execution_count": 6,
     "metadata": {},
     "output_type": "execute_result"
    }
   ],
   "source": [
    "images, labels = dls.train.one_batch()\n",
    "# We have a batch of 64 images, with an RGB stack (3) of 28x28 pixels\n",
    "images.shape"
   ]
  },
  {
   "cell_type": "code",
   "execution_count": 7,
   "metadata": {},
   "outputs": [
    {
     "name": "stdout",
     "output_type": "stream",
     "text": [
      "TensorMultiCategory(5, device='cuda:0')\n"
     ]
    },
    {
     "data": {
      "text/plain": [
       "<Axes: >"
      ]
     },
     "execution_count": 7,
     "metadata": {},
     "output_type": "execute_result"
    },
    {
     "data": {
      "image/png": "[encoded data removed]",
      "text/plain": [
       "<Figure size 100x100 with 1 Axes>"
      ]
     },
     "metadata": {},
     "output_type": "display_data"
    }
   ],
   "source": [
    "one_image = images[0]\n",
    "print(labels[0].argmax())\n",
    "one_image.show()"
   ]
  },
  {
   "cell_type": "markdown",
   "metadata": {},
   "source": [
    "For the purposes of our pure python learner version, we want to compress the RGB image to grayscale, then combine all of the pixel rows into 1 row. This way, we can assign a weight to each pixel."
   ]
  },
  {
   "cell_type": "code",
   "execution_count": 141,
   "metadata": {},
   "outputs": [
    {
     "data": {
      "text/plain": [
       "(torch.Size([3, 28, 28]),\n",
       " torch.Size([1, 28, 28]),\n",
       " torch.Size([28, 28]),\n",
       " torch.Size([784]))"
      ]
     },
     "execution_count": 141,
     "metadata": {},
     "output_type": "execute_result"
    }
   ],
   "source": [
    "gray_image = torchvision.transforms.functional.rgb_to_grayscale(one_image)\n",
    "gray_image_squeezed = gray_image.squeeze()\n",
    "gray_image_squeezed_flattened = gray_image_squeezed.flatten()\n",
    "one_image.shape, gray_image.shape, gray_image_squeezed.shape, gray_image_squeezed_flattened.shape"
   ]
  },
  {
   "cell_type": "code",
   "execution_count": 142,
   "metadata": {},
   "outputs": [
    {
     "data": {
      "text/plain": [
       "torch.Size([64, 784])"
      ]
     },
     "execution_count": 142,
     "metadata": {},
     "output_type": "execute_result"
    }
   ],
   "source": [
    "# Pixels per dimension\n",
    "px_per_dim = 28\n",
    "images_tfmd = (\n",
    "    torchvision.transforms.functional\n",
    "        .rgb_to_grayscale(images).squeeze().view(64, px_per_dim**2)\n",
    ")\n",
    "images_tfmd.shape"
   ]
  },
  {
   "cell_type": "code",
   "execution_count": 6,
   "metadata": {},
   "outputs": [
    {
     "data": {
      "text/plain": [
       "<torch._C.Generator at 0x7f1a60c77590>"
      ]
     },
     "execution_count": 6,
     "metadata": {},
     "output_type": "execute_result"
    }
   ],
   "source": [
    "# Pixels per dimension\n",
    "px_per_dim = 28\n",
    "torch.random.manual_seed(42)"
   ]
  },
  {
   "cell_type": "markdown",
   "metadata": {},
   "source": [
    "To create a simple 1-layer neural network, we need to initialize the parameters in a particular way.\n",
    "\n",
    "First, we need a weight for each pixel in the image, so 28*28 (784) weights, as well as a bias. This produces the parameters for a single neuron.\n",
    "\n",
    "One neuron won't be enough to do anything useful, so we create this set of parameters for the amount of neurons we want, in this case, 100. Effectively, we get a set of 784 weights and 1 bias for each of the 100 neurons.\n",
    "\n",
    "We represent this with tensors by creating a weights tensor and a bias tensor. The weights tensor is (pixels, hidden_neurons), and the bias is just hidden_neurons.\n",
    "\n",
    "We have a second set of parameters for our output layer. This layer's input is the size of the prior layer's output (in this case, number of neurons), and the output is the number of predictions we want, which is 1 for each digit in the mnist dataset (10 aka digits 0-9).\n",
    "\n",
    "Note that **each layer's input is the size of the prior layer's output**. So for the first layer, the input is the size of the image in pixels (784), and for the second layer, the input is the size of the prior layer's output, the number of neurons (100 - **we get a single number of output - an activation - for each neuron**).\n",
    "\n",
    "An important concept to emphasize here is that, no matter what the size of each item that a neuron gets as input (784 pixels, or 100 activations - 1 from each of the neurons in the prior layer), **it will always produce a single number as its activation**. $f(y=wx+b)$ is always 1 number. It represents the strength of the connection of that neuron with the subsequent layer, and is the basis by which neural networks learn. Layers of neurons build on each other."
   ]
  },
  {
   "cell_type": "code",
   "execution_count": 7,
   "metadata": {},
   "outputs": [],
   "source": [
    "hidden_neurons = 100\n",
    "# There are a total of 10 number classes (digits 0-9)\n",
    "mnist_classes = 10\n",
    "\n",
    "weights_layer_1 = torch.randn((px_per_dim**2, hidden_neurons), requires_grad=True, device=device)\n",
    "bias_layer_1 = torch.randn(hidden_neurons, requires_grad=True, device=device)\n",
    "\n",
    "weights_layer_2 = torch.randn((hidden_neurons, mnist_classes), requires_grad=True, device=device)\n",
    "bias_layer_2 = torch.randn(mnist_classes, requires_grad=True, device=device)"
   ]
  },
  {
   "cell_type": "markdown",
   "metadata": {},
   "source": [
    "Breaking down each of the model's forward pass, we have:\n",
    "\n",
    "First linear layer:\n",
    "Matrix multiply a batch of images by its weights and add the biases:\n",
    "$$y = wx + b$$\n",
    "\n",
    "This gives us a single output, y, for each neuron, so we have **100 total outputs per image**.\n",
    "\n",
    "It's hard to associate this linear equation properly *per image* because matrix multiplication involves two \"layers\" of data - a `batch` of `batch_size` images as well as a set of weights of length `px` (pixels per image). If we apply the equation above to a single image, we get:\n",
    "\n",
    "$$y = w_{px}x_{px} + b$$\n",
    "\n",
    "This means we're matrix multiplying each individual pixel in the image by a weight for that image, then adding a bias. So here, y is the result for a single image, for a single neuron.\n",
    "\n",
    "However, in practice, we never use a single data item in our matrix multiplication because the GPU needs to have enough data to process for it to be efficient. Likewise, we also usually have more than one neuron in a given layer."
   ]
  },
  {
   "cell_type": "code",
   "execution_count": 8,
   "metadata": {},
   "outputs": [
    {
     "ename": "NameError",
     "evalue": "name 'images_tfmd' is not defined",
     "output_type": "error",
     "traceback": [
      "\u001b[0;31m---------------------------------------------------------------------------\u001b[0m",
      "\u001b[0;31mNameError\u001b[0m                                 Traceback (most recent call last)",
      "\u001b[1;32m/home/daynil/coding/data-science/fastai/course22/04-mnist-3ways.ipynb Cell 15\u001b[0m line \u001b[0;36m1\n\u001b[0;32m----> <a href='vscode-notebook-cell://wsl%2Bubuntuf/home/daynil/coding/data-science/fastai/course22/04-mnist-3ways.ipynb#X20sdnNjb2RlLXJlbW90ZQ%3D%3D?line=0'>1</a>\u001b[0m res \u001b[39m=\u001b[39m images_tfmd\u001b[39m@weights_layer_1\u001b[39m \u001b[39m+\u001b[39m bias_layer_1\n\u001b[1;32m      <a href='vscode-notebook-cell://wsl%2Bubuntuf/home/daynil/coding/data-science/fastai/course22/04-mnist-3ways.ipynb#X20sdnNjb2RlLXJlbW90ZQ%3D%3D?line=1'>2</a>\u001b[0m res\u001b[39m.\u001b[39mshape\n",
      "\u001b[0;31mNameError\u001b[0m: name 'images_tfmd' is not defined"
     ]
    }
   ],
   "source": [
    "res = images_tfmd@weights_layer_1 + bias_layer_1\n",
    "res.shape"
   ]
  },
  {
   "cell_type": "code",
   "execution_count": null,
   "metadata": {},
   "outputs": [
    {
     "data": {
      "text/plain": [
       "TensorImage([[ 5.8395e-01,  7.7099e-01,  3.2095e-01,  ...,  1.6309e+01,\n",
       "               1.5097e+01,  8.4860e+00],\n",
       "             [-2.3377e+00, -5.4933e+00,  2.7442e+00,  ...,  1.1085e+01,\n",
       "              -1.6795e+00, -7.7791e+00],\n",
       "             [ 8.8088e+00, -4.0023e-02, -7.4369e+00,  ...,  1.4133e+01,\n",
       "               1.4072e+00, -5.3275e+00],\n",
       "             ...,\n",
       "             [ 2.4089e+01, -1.4402e-02,  1.4289e+01,  ...,  4.3825e+00,\n",
       "               2.3052e+00, -5.7478e+00],\n",
       "             [ 1.2136e+01, -6.9187e-01,  1.0098e+01,  ...,  1.6278e+01,\n",
       "               1.4465e+00,  4.1869e-01],\n",
       "             [ 9.3971e+00, -2.5722e+00,  4.3713e+00,  ...,  2.8283e-01,\n",
       "               5.3905e+00,  3.2354e+00]], device='cuda:0',\n",
       "            grad_fn=<AliasBackward0>)"
      ]
     },
     "metadata": {},
     "output_type": "display_data"
    }
   ],
   "source": [
    "res[0]"
   ]
  },
  {
   "cell_type": "markdown",
   "metadata": {},
   "source": [
    "So here, we're taking a batch of 64 images of 784 pixels each, our first matrix, and performing matrix multiplication by 784 weights (one for each pixel) for 100 neurons. The resulting matrix is, for each of the 64 images in the batch, we get a single activation for each of the 100 neurons. We then do a final matrix addition operation, adding the bias for each neuron the the result of the matrix multiplication.\n",
    "\n",
    "It's a very simple linear equation, but the fact that this vast number of computations can be encompassed by a single operation took some time for me to fully digest and appreciate.\n",
    "\n",
    "All of this comes together very elegently on a GPU, where the process can be extensively parallelized across many threads and cores, resulting in an extremely fast and efficient operation.\n",
    "\n",
    "Ultimately, we're performing the $y = w_{px}x_{px} + b$ operation in parallel for batches of multiple items and for multiple neurons.\n",
    "\n",
    "The next step is to use an activation function such as a ReLU to apply a nonlinearity to each of our neurons. All this does is turns negative values to 0 and leaves positive values as they are."
   ]
  },
  {
   "cell_type": "code",
   "execution_count": 200,
   "metadata": {},
   "outputs": [],
   "source": [
    "res = torch.nn.ReLU()(res)"
   ]
  },
  {
   "cell_type": "markdown",
   "metadata": {},
   "source": [
    "Then, we can repeat the same linear operation as before, but now on the set of 64 batches of 100 linear activations from the previous layer matrix multiplied by a new set of 100 weights for each activation for each of our 10 final neurons."
   ]
  },
  {
   "cell_type": "code",
   "execution_count": 207,
   "metadata": {},
   "outputs": [
    {
     "data": {
      "text/plain": [
       "torch.Size([64, 10])"
      ]
     },
     "execution_count": 207,
     "metadata": {},
     "output_type": "execute_result"
    }
   ],
   "source": [
    "res = res@weights_layer_2 + bias_layer_2\n",
    "res.shape"
   ]
  },
  {
   "cell_type": "markdown",
   "metadata": {},
   "source": [
    "This produces a set of 64 batches of logits, one for each image. The logits are a vector of 10 numbers representing the raw predictions of our model for each of the 10 digits in the mnist dataset."
   ]
  },
  {
   "cell_type": "code",
   "execution_count": 213,
   "metadata": {},
   "outputs": [
    {
     "data": {
      "text/plain": [
       "TensorImage([-42.5143, 141.6074, -76.3715, -12.9963, -72.4300, 121.3955,\n",
       "             242.9164, 108.5102,  31.6789, -50.5750], device='cuda:0',\n",
       "            grad_fn=<AliasBackward0>)"
      ]
     },
     "execution_count": 213,
     "metadata": {},
     "output_type": "execute_result"
    }
   ],
   "source": [
    "res[1]"
   ]
  },
  {
   "cell_type": "markdown",
   "metadata": {},
   "source": [
    "Finally, we can normalize our 10 logits using the softmax function, which produces values between 0 and 1, representing the model's final predicted probability that the given image is one each of the 10 digits in our dataset."
   ]
  },
  {
   "cell_type": "code",
   "execution_count": 214,
   "metadata": {},
   "outputs": [
    {
     "data": {
      "text/plain": [
       "TensorImage([0.0000e+00, 9.8091e-45, 0.0000e+00, 0.0000e+00, 0.0000e+00,\n",
       "             0.0000e+00, 1.0000e+00, 0.0000e+00, 0.0000e+00, 0.0000e+00],\n",
       "            device='cuda:0', grad_fn=<AliasBackward0>)"
      ]
     },
     "execution_count": 214,
     "metadata": {},
     "output_type": "execute_result"
    }
   ],
   "source": [
    "res = torch.nn.Softmax(dim=1)(res)\n",
    "res[1]"
   ]
  },
  {
   "cell_type": "code",
   "execution_count": 215,
   "metadata": {},
   "outputs": [
    {
     "data": {
      "text/plain": [
       "TensorImage(6, device='cuda:0')"
      ]
     },
     "execution_count": 215,
     "metadata": {},
     "output_type": "execute_result"
    }
   ],
   "source": [
    "res[1].argmax()"
   ]
  },
  {
   "cell_type": "markdown",
   "metadata": {},
   "source": [
    "In this case, the model is close to 100% certain that the image is of the number 6."
   ]
  },
  {
   "cell_type": "markdown",
   "metadata": {},
   "source": [
    "TODO:\n",
    "Add a simplified visualization of the above matrix multiplication and neural network using batches of 2 images that are 2x2 pixels with 3 neurons."
   ]
  },
  {
   "cell_type": "markdown",
   "metadata": {},
   "source": [
    "Putting it all together, we can create a function which represents our forward pass through our model."
   ]
  },
  {
   "cell_type": "code",
   "execution_count": 8,
   "metadata": {},
   "outputs": [],
   "source": [
    "def simple_net(image_batch):\n",
    "    res = image_batch@weights_layer_1 + bias_layer_1\n",
    "    res = torch.nn.ReLU()(res)\n",
    "    res = res@weights_layer_2 + bias_layer_2\n",
    "    # This needs to go later (cross entropy loss expects unnormalized logits)\n",
    "    # res = torch.nn.Softmax(dim=1)(res)\n",
    "    return res"
   ]
  },
  {
   "cell_type": "markdown",
   "metadata": {},
   "source": [
    "Now, we need to implement the actual training and validation logic, which will automate the process of updating the weights. First, we need to a loss function to determine how good or bad our predictions are.\n",
    "\n",
    "For multi-class classification, we use cross entropy. This is basically a fancy way of saying the loss increases based on distance from the correct answer. So if the digit was actually a 4, and our predicted probability for 4 was 0.01%, our loss would be very high, if our predicted probability for 4 was 55.2%, our loss would be lower, and if our predicted probability was 99.5%, our loss would be very low.\n",
    "\n",
    "[StatQuest: Neural Networks Part 6: Cross Entropy](https://www.youtube.com/watch?app=desktop&v=6ArSys5qHAU)"
   ]
  },
  {
   "cell_type": "code",
   "execution_count": 7,
   "metadata": {},
   "outputs": [],
   "source": [
    "# Common code for pure python and pytorch\n",
    "def to_torch_tensor(xb: torch.Tensor, yb):\n",
    "    return torch.tensor(xb, device=device), torch.tensor(yb, device=device)\n",
    "\n",
    "def to_bw_flattened(xb):\n",
    "    return (torchvision.transforms.functional\n",
    "                    .rgb_to_grayscale(xb).squeeze().view(\n",
    "                        xb.shape[0], px_per_dim**2)\n",
    "                )\n",
    "\n",
    "def accuracy(preds, yb):\n",
    "    accuracy_tns = (preds.argmax(dim=1) == yb.argmax(dim=1)).float()\n",
    "    return (accuracy_tns.sum() / len(accuracy_tns)).item()\n",
    "\n",
    "loss_fn = torch.nn.CrossEntropyLoss()"
   ]
  },
  {
   "cell_type": "code",
   "execution_count": 10,
   "metadata": {},
   "outputs": [
    {
     "name": "stdout",
     "output_type": "stream",
     "text": [
      "Epoch 0...\n"
     ]
    },
    {
     "name": "stderr",
     "output_type": "stream",
     "text": [
      "/tmp/ipykernel_23588/3251691938.py:3: UserWarning: To copy construct from a tensor, it is recommended to use sourceTensor.clone().detach() or sourceTensor.clone().detach().requires_grad_(True), rather than torch.tensor(sourceTensor).\n",
      "  return torch.tensor(xb, device=device), torch.tensor(yb, device=device)\n"
     ]
    },
    {
     "name": "stdout",
     "output_type": "stream",
     "text": [
      "Train loss: 35.14687728881836 - Train acc: 0.25136739594450375\n",
      "Valid loss: 19.50116729736328 - Valid acc: 0.40893710191082805\n",
      "Epoch 1...\n",
      "Train loss: 15.131706237792969 - Train acc: 0.48479188900747067\n",
      "Valid loss: 11.479949951171875 - Valid acc: 0.5625\n",
      "Epoch 2...\n",
      "Train loss: 10.204293251037598 - Train acc: 0.5935332177161152\n",
      "Valid loss: 8.56705093383789 - Valid acc: 0.6432125796178344\n",
      "Epoch 3...\n",
      "Train loss: 8.060382843017578 - Train acc: 0.6518309765208111\n",
      "Valid loss: 7.091747760772705 - Valid acc: 0.6878980891719745\n",
      "Epoch 4...\n",
      "Train loss: 6.833016395568848 - Train acc: 0.6881503468516542\n",
      "Valid loss: 6.159182548522949 - Valid acc: 0.7158638535031847\n",
      "Epoch 5...\n",
      "Train loss: 6.009582042694092 - Train acc: 0.7129469050160085\n",
      "Valid loss: 5.502294540405273 - Valid acc: 0.7344745222929936\n",
      "Epoch 6...\n",
      "Train loss: 5.413011074066162 - Train acc: 0.7310065368196371\n",
      "Valid loss: 5.020163059234619 - Valid acc: 0.7498009554140127\n",
      "Epoch 7...\n",
      "Train loss: 4.958773136138916 - Train acc: 0.7459978655282817\n",
      "Valid loss: 4.629584789276123 - Valid acc: 0.7608479299363057\n",
      "Epoch 8...\n",
      "Train loss: 4.595117092132568 - Train acc: 0.7576374066168623\n",
      "Valid loss: 4.316424369812012 - Valid acc: 0.7727906050955414\n",
      "Epoch 9...\n",
      "Train loss: 4.292198657989502 - Train acc: 0.7676760939167556\n",
      "Valid loss: 4.0595550537109375 - Valid acc: 0.7804538216560509\n",
      "Epoch 10...\n",
      "Train loss: 4.046117782592773 - Train acc: 0.7757470651013874\n",
      "Valid loss: 3.837089776992798 - Valid acc: 0.7872213375796179\n",
      "Epoch 11...\n",
      "Train loss: 3.827301502227783 - Train acc: 0.7828842049092849\n",
      "Valid loss: 3.6466124057769775 - Valid acc: 0.7938893312101911\n",
      "Epoch 12...\n",
      "Train loss: 3.6383748054504395 - Train acc: 0.7889040821771611\n",
      "Valid loss: 3.482036590576172 - Valid acc: 0.7983678343949044\n",
      "Epoch 13...\n",
      "Train loss: 3.4684770107269287 - Train acc: 0.7941735592315902\n",
      "Valid loss: 3.3327507972717285 - Valid acc: 0.802547770700637\n",
      "Epoch 14...\n",
      "Train loss: 3.318028450012207 - Train acc: 0.7992095784418356\n",
      "Valid loss: 3.2009201049804688 - Valid acc: 0.806031050955414\n",
      "Epoch 15...\n",
      "Train loss: 3.1809253692626953 - Train acc: 0.8039787886872999\n",
      "Valid loss: 3.0774779319763184 - Valid acc: 0.8103105095541401\n",
      "Epoch 16...\n",
      "Train loss: 3.0589375495910645 - Train acc: 0.8086479455709712\n",
      "Valid loss: 2.9686670303344727 - Valid acc: 0.8125995222929936\n",
      "Epoch 17...\n",
      "Train loss: 2.948773145675659 - Train acc: 0.811632870864461\n",
      "Valid loss: 2.871026039123535 - Valid acc: 0.816281847133758\n",
      "Epoch 18...\n",
      "Train loss: 2.847559690475464 - Train acc: 0.8150680362860192\n",
      "Valid loss: 2.7753007411956787 - Valid acc: 0.8187699044585988\n",
      "Epoch 19...\n",
      "Train loss: 2.749936580657959 - Train acc: 0.8185032017075774\n",
      "Valid loss: 2.694465398788452 - Valid acc: 0.8203622611464968\n",
      "Epoch 20...\n",
      "Train loss: 2.6667933464050293 - Train acc: 0.8211379402347919\n",
      "Valid loss: 2.6146509647369385 - Valid acc: 0.8234474522292994\n",
      "Epoch 21...\n",
      "Train loss: 2.5862863063812256 - Train acc: 0.8237726787620064\n",
      "Valid loss: 2.5399158000946045 - Valid acc: 0.8261345541401274\n",
      "Epoch 22...\n",
      "Train loss: 2.5120558738708496 - Train acc: 0.8261239327641409\n",
      "Valid loss: 2.4759790897369385 - Valid acc: 0.82703025477707\n",
      "Epoch 23...\n",
      "Train loss: 2.440119504928589 - Train acc: 0.8284751867662753\n",
      "Valid loss: 2.4072492122650146 - Valid acc: 0.8296178343949044\n",
      "Epoch 24...\n",
      "Train loss: 2.373642921447754 - Train acc: 0.8307263874066169\n",
      "Valid loss: 2.347306251525879 - Valid acc: 0.8314092356687898\n",
      "Epoch 25...\n",
      "Train loss: 2.313300848007202 - Train acc: 0.8324272945570971\n",
      "Valid loss: 2.291074275970459 - Valid acc: 0.832703025477707\n",
      "Epoch 26...\n",
      "Train loss: 2.2542178630828857 - Train acc: 0.8343116328708644\n",
      "Valid loss: 2.2368452548980713 - Valid acc: 0.8342953821656051\n",
      "Epoch 27...\n",
      "Train loss: 2.197441816329956 - Train acc: 0.8361125933831377\n",
      "Valid loss: 2.1889305114746094 - Valid acc: 0.8388734076433121\n",
      "Epoch 28...\n",
      "Train loss: 2.14709734916687 - Train acc: 0.8376634204909285\n",
      "Valid loss: 2.1409361362457275 - Valid acc: 0.8387738853503185\n",
      "Epoch 29...\n",
      "Train loss: 2.095937728881836 - Train acc: 0.8392809498399146\n",
      "Valid loss: 2.098238945007324 - Valid acc: 0.8421576433121019\n",
      "Epoch 30...\n",
      "Train loss: 2.0490543842315674 - Train acc: 0.8413320437566703\n",
      "Valid loss: 2.0554847717285156 - Valid acc: 0.8425557324840764\n",
      "Epoch 31...\n",
      "Train loss: 2.005523681640625 - Train acc: 0.8424826574172892\n",
      "Valid loss: 2.0130698680877686 - Valid acc: 0.8438495222929936\n",
      "Epoch 32...\n",
      "Train loss: 1.9637089967727661 - Train acc: 0.8436332710779082\n",
      "Valid loss: 1.9746090173721313 - Valid acc: 0.8460390127388535\n",
      "Epoch 33...\n",
      "Train loss: 1.9224694967269897 - Train acc: 0.8451840981856991\n",
      "Valid loss: 1.9376904964447021 - Valid acc: 0.8459394904458599\n",
      "Epoch 34...\n",
      "Train loss: 1.8840956687927246 - Train acc: 0.8460178762006404\n",
      "Valid loss: 1.9026732444763184 - Valid acc: 0.8469347133757962\n",
      "Epoch 35...\n",
      "Train loss: 1.8481690883636475 - Train acc: 0.8470184098185699\n",
      "Valid loss: 1.8710508346557617 - Valid acc: 0.8487261146496815\n",
      "Epoch 36...\n",
      "Train loss: 1.8125081062316895 - Train acc: 0.848252401280683\n",
      "Valid loss: 1.8377283811569214 - Valid acc: 0.848328025477707\n",
      "Epoch 37...\n",
      "Train loss: 1.7787609100341797 - Train acc: 0.8490861792956244\n",
      "Valid loss: 1.8094559907913208 - Valid acc: 0.8488256369426752\n",
      "Epoch 38...\n",
      "Train loss: 1.7445324659347534 - Train acc: 0.8504535752401281\n",
      "Valid loss: 1.7773208618164062 - Valid acc: 0.8503184713375797\n",
      "Epoch 39...\n",
      "Train loss: 1.7124004364013672 - Train acc: 0.8507704108858057\n",
      "Valid loss: 1.751414179801941 - Valid acc: 0.8505175159235668\n",
      "Epoch 40...\n",
      "Train loss: 1.683440923690796 - Train acc: 0.85198772678762\n",
      "Valid loss: 1.7226488590240479 - Valid acc: 0.8517117834394905\n",
      "Epoch 41...\n",
      "Train loss: 1.6545202732086182 - Train acc: 0.852954909284952\n",
      "Valid loss: 1.695430874824524 - Valid acc: 0.8522093949044586\n",
      "Epoch 42...\n",
      "Train loss: 1.626156210899353 - Train acc: 0.853621931696905\n",
      "Valid loss: 1.6702461242675781 - Valid acc: 0.852109872611465\n",
      "Epoch 43...\n",
      "Train loss: 1.5990407466888428 - Train acc: 0.8548225720384205\n",
      "Valid loss: 1.6434744596481323 - Valid acc: 0.8540007961783439\n",
      "Epoch 44...\n",
      "Train loss: 1.5727081298828125 - Train acc: 0.8554228922091782\n",
      "Valid loss: 1.6212393045425415 - Valid acc: 0.8530055732484076\n",
      "Epoch 45...\n",
      "Train loss: 1.5463637113571167 - Train acc: 0.8567069103521878\n",
      "Valid loss: 1.5963900089263916 - Valid acc: 0.8554936305732485\n",
      "Epoch 46...\n",
      "Train loss: 1.5218976736068726 - Train acc: 0.8570737726787621\n",
      "Valid loss: 1.5745317935943604 - Valid acc: 0.8548964968152867\n",
      "Epoch 47...\n",
      "Train loss: 1.4982476234436035 - Train acc: 0.8581243329775881\n",
      "Valid loss: 1.553669810295105 - Valid acc: 0.8554936305732485\n",
      "Epoch 48...\n",
      "Train loss: 1.4753013849258423 - Train acc: 0.8582577374599787\n",
      "Valid loss: 1.535651445388794 - Valid acc: 0.8551950636942676\n",
      "Epoch 49...\n",
      "Train loss: 1.45237135887146 - Train acc: 0.8588747331910352\n",
      "Valid loss: 1.5130178928375244 - Valid acc: 0.8571855095541401\n"
     ]
    }
   ],
   "source": [
    "epochs = 50\n",
    "lr = 0.001\n",
    "train_loss = []\n",
    "train_acc = []\n",
    "valid_acc = []\n",
    "valid_loss = []\n",
    "\n",
    "def optimize(loss):\n",
    "    params = [weights_layer_1, bias_layer_1, weights_layer_2, bias_layer_2]\n",
    "\n",
    "    loss.backward()\n",
    "\n",
    "    for param in params:\n",
    "        param.data -= param.grad.data * lr\n",
    "    \n",
    "    for param in params:\n",
    "        param.grad.zero_()\n",
    "\n",
    "\n",
    "def train_step(xb, yb):\n",
    "    preds = simple_net(xb)\n",
    "    loss = loss_fn(preds, yb)\n",
    "    acc = accuracy(preds, yb)\n",
    "    optimize(loss)\n",
    "    return loss, acc\n",
    "\n",
    "def valid_step(xb, yb):\n",
    "    with torch.inference_mode():\n",
    "        preds = simple_net(xb)\n",
    "        loss = loss_fn(preds, yb)\n",
    "        acc = accuracy(preds, yb)\n",
    "        return loss, acc\n",
    "\n",
    "for epoch in range(epochs):\n",
    "    print(f\"Epoch {epoch}...\")\n",
    "\n",
    "    tot_loss, tot_acc = 0, 0\n",
    "    for batch in dls.train:\n",
    "        xb, yb = batch\n",
    "        xb = to_bw_flattened(xb)\n",
    "        xb, yb = to_torch_tensor(xb, yb)\n",
    "        loss, acc = train_step(xb, yb)\n",
    "        tot_loss += loss\n",
    "        tot_acc += acc\n",
    "    \n",
    "    batches = len(dls.train)\n",
    "    avg_loss = tot_loss / batches\n",
    "    avg_acc = tot_acc / batches\n",
    "    train_loss.append(avg_loss)\n",
    "    train_acc.append(avg_acc)\n",
    "    print(f'Train loss: {avg_loss} - Train acc: {avg_acc}')\n",
    "    \n",
    "    tot_loss, tot_acc = 0, 0\n",
    "    for batch in dls.valid:\n",
    "        xb, yb = batch\n",
    "        xb = to_bw_flattened(xb)\n",
    "        xb, yb = to_torch_tensor(xb, yb)\n",
    "        loss, acc = valid_step(xb, yb)\n",
    "        tot_loss += loss\n",
    "        tot_acc += acc\n",
    "\n",
    "    batches = len(dls.valid)\n",
    "    avg_loss = tot_loss / batches\n",
    "    avg_acc = tot_acc / batches\n",
    "    valid_loss.append(avg_loss)\n",
    "    valid_acc.append(avg_acc)\n",
    "    print(f'Valid loss: {avg_loss} - Valid acc: {avg_acc}')"
   ]
  },
  {
   "cell_type": "code",
   "execution_count": 17,
   "metadata": {},
   "outputs": [
    {
     "data": {
      "image/png": "[encoded data removed]",
      "text/plain": [
       "<Figure size 1000x400 with 1 Axes>"
      ]
     },
     "metadata": {},
     "output_type": "display_data"
    },
    {
     "data": {
      "image/png": "[encoded data removed]",
      "text/plain": [
       "<Figure size 1000x400 with 1 Axes>"
      ]
     },
     "metadata": {},
     "output_type": "display_data"
    }
   ],
   "source": [
    "x = range(0, len(train_loss))\n",
    "# train_loss = [item.item() for item in train_loss]\n",
    "valid_loss = [item.item() for item in valid_loss]\n",
    "plt.figure(figsize=(10, 4))\n",
    "plt.title('Loss')\n",
    "plt.xlabel('Epoch')\n",
    "plt.plot(x, train_loss, label=\"Train\")\n",
    "plt.plot(x, valid_loss, label=\"Valid\")\n",
    "plt.legend()\n",
    "plt.show()\n",
    "\n",
    "x = range(0, len(train_acc))\n",
    "plt.figure(figsize=(10, 4))\n",
    "plt.title('Accuracy')\n",
    "plt.xlabel('Epoch')\n",
    "plt.plot(x, train_acc, label=\"Train\")\n",
    "plt.plot(x, valid_acc, label=\"Valid\")\n",
    "plt.legend()\n",
    "plt.show()"
   ]
  },
  {
   "cell_type": "code",
   "execution_count": 18,
   "metadata": {},
   "outputs": [
    {
     "name": "stdout",
     "output_type": "stream",
     "text": [
      "Prediction: 4, Probability: 100.000%\n",
      "Actual: 4\n"
     ]
    },
    {
     "data": {
      "text/plain": [
       "<Axes: >"
      ]
     },
     "execution_count": 18,
     "metadata": {},
     "output_type": "execute_result"
    },
    {
     "data": {
      "image/png": "[encoded data removed]",
      "text/plain": [
       "<Figure size 100x100 with 1 Axes>"
      ]
     },
     "metadata": {},
     "output_type": "display_data"
    }
   ],
   "source": [
    "# If I want to test a different batch than provided by one_batch()\n",
    "# How else can I do this without iterating? Indexing and using next() doesn't work\n",
    "# How does fastai allow a loop then?\n",
    "# idx = 0\n",
    "# for batch in dls.valid:\n",
    "#     if idx == 43:\n",
    "#         images, labels = batch\n",
    "#         break\n",
    "#     idx += 1\n",
    "\n",
    "\n",
    "images, labels = dls.valid.one_batch()\n",
    "image_tfmd = to_bw_flattened(images)[0]\n",
    "\n",
    "logits = simple_net(image_tfmd)\n",
    "preds = torch.nn.Softmax(dim=0)(logits)\n",
    "print(f\"Prediction: {preds.argmax().item()}, Probability: {preds[preds.argmax().item()].item()*100:0.03f}%\")\n",
    "print(f\"Actual: {labels[0].argmax().item()}\")\n",
    "images[0].show()"
   ]
  },
  {
   "cell_type": "markdown",
   "metadata": {},
   "source": [
    "Here's the core code all in one block, compressed and with logging omitted for clarity."
   ]
  },
  {
   "cell_type": "code",
   "execution_count": null,
   "metadata": {},
   "outputs": [],
   "source": [
    "hidden_neurons = 100\n",
    "mnist_classes = 10\n",
    "\n",
    "w1 = torch.randn((px_per_dim**2, hidden_neurons), requires_grad=True, device=device)\n",
    "b1 = torch.randn(hidden_neurons, requires_grad=True, device=device)\n",
    "\n",
    "w2 = torch.randn((hidden_neurons, mnist_classes), requires_grad=True, device=device)\n",
    "b2 = torch.randn(mnist_classes, requires_grad=True, device=device)\n",
    "\n",
    "def simple_net(image_batch):\n",
    "    res = image_batch@w1 + b1\n",
    "    res = torch.nn.ReLU()(res)\n",
    "    res = res@w2 + b2\n",
    "    return res\n",
    "\n",
    "def optimize():\n",
    "    params = [w1, b1, w2, b2]\n",
    "    for param in params:\n",
    "        param.data -= param.grad.data * lr\n",
    "    \n",
    "    for param in params:\n",
    "        param.grad.zero_()\n",
    "\n",
    "def train_step(xb, yb):\n",
    "    preds = simple_net(xb)\n",
    "    loss = loss_fn(preds, yb)\n",
    "    acc = accuracy(preds, yb)\n",
    "\n",
    "    loss.backward()\n",
    "    optimize(loss)\n",
    "    return loss, acc\n",
    "\n",
    "def valid_step(xb, yb):\n",
    "    with torch.inference_mode():\n",
    "        preds = simple_net(xb)\n",
    "        loss = loss_fn(preds, yb)\n",
    "        acc = accuracy(preds, yb)\n",
    "        return loss, acc\n",
    "\n",
    "epochs = 50\n",
    "lr = 0.001\n",
    "\n",
    "for epoch in range(epochs):\n",
    "    for batch in dls.train:\n",
    "        xb, yb = batch\n",
    "\n",
    "        # These two are just for compatability between fastai batches and our method\n",
    "        # Can ignore, conceptually\n",
    "        xb = to_bw_flattened(xb)\n",
    "        xb, yb = to_torch_tensor(xb, yb)\n",
    "        \n",
    "        loss, acc = train_step(xb, yb)\n",
    "    \n",
    "    for batch in dls.valid:\n",
    "        xb, yb = batch\n",
    "        xb = to_bw_flattened(xb)\n",
    "        xb, yb = to_torch_tensor(xb, yb)\n",
    "        loss, acc = valid_step(xb, yb)"
   ]
  },
  {
   "cell_type": "markdown",
   "metadata": {},
   "source": [
    "We've just trained a model to identify written digits from an image with around 80% accuracy in mostly pure Python! We're still operating with tensors in order to get automatic gradient calculation, but other than that, this is a simple representation of the core, explicit code that goes into training an image model."
   ]
  },
  {
   "cell_type": "markdown",
   "metadata": {},
   "source": [
    "## Deep Learning - Digested\n",
    "\n",
    "To solidify the foundational concepts of deep learning, we can go through each step in the process of data prep, a single loop through a training batch, and subsequent use of a model to make a prediction. We should concretely visual all of these as we go through them.\n",
    "\n",
    "Deep learning, and machine learning in general, begins with the data. Everything in life can be represented as numbers, so we're not limited to just data that is already numerical. Images, sound, and even text data (via embeddings) can be represented as numbers.\n",
    "\n",
    "The input of a single data item to a neural network is a vector of numbers. For tabular data, this is all the columns of a row of data (with non-numerical data either encoded or embedded). For sound and images, this is all of the samples or pixels. For text data, this is the embeddings. Regardless, it is always just a vector of numbers. In effect, conceptually, **as far as the model is concerned, there is no difference between a vector representing actual numerical data, pixels in an image, samples in an audio file, or embeddings in a text file**.\n",
    "\n",
    "It is most useful, conceptually, to think of how data is passed through the model using a single data item. The vector of numbers for the item is passed through to each neuron in the first layer. Each neuron in the first layer has an input size of the length of the vector of numbers. **Each neuron, regardless of the input size, always outputs a single number** - its activation. This is the strength of the signal that is passed to the next layer from that particular neuron. Each neuron in the next layer takes each activation from the prior layer, and again outputs a single activation of its own. \n",
    "\n",
    "The output layer always has the number of neurons we need to produce the type of data we need for our task. For regression, that is a single neuron, since we are just predicting a number. For classification, the number of neurons is equal to the number of classes for which we need to be able to make a prediction. A dog vs. cat classifier is 2 neurons, while a cat breed identifier has as many neurons as there are breeds we want to predict. The output of each neuron in the output layer reprsents the model's predicted probability for one of the classes in the classification task.\n",
    "\n",
    "Layering on conceptually, we never actually pass a single data item through a model at a time, because that would be very inefficient. Efficient use of a GPU requires that you pass enough data in to make the process of transferring data to it worthwile. We do this using batches of data. So instead of a single vector of numbers, a single data item, we have a batch of, for example, 64 vectors of numbers. The calculations in a model for a batch of data occurs in parallel on the GPU using matrix multiplication. However, the ultimate result is more easily visualized as an operation in series.\n",
    "\n",
    "To begin, we initialize the parameters for all the neurons in all the layers in our model, the weights and the biases. Each neuron in the first layer has as many weights as the length of the input vector for a single item, and each neuron in every subsequent layer has as many weights as the number of neurons in the prior layer. Every neuron in every layer has a single bias, which is used to avoid loss of information when an input value is 0.\n",
    "\n",
    "As an example, we use the MNIST dataset, handwritten digits in a 28x28 black and white image. We flatten this to a vector of 784 numbers. If we select a batch size of 64, our input matrix is 64 vectors of 784 pixels (64, 784). If we select 100 neurons in our first layer, we have a matrix of weights that is (784, 100), a weight for each pixel, for each of the 100 neurons. We also have a vector of 100 biases, one for each of the 100 neurons. \n",
    "\n",
    "The parameters are initialized as tensors of random numbers with gradient calculation enabled. **Only** the parameter tensors have gradient calculation enabled - input tensors do not.\n",
    "\n",
    "Passing a single batch of 64 images through the first layer, matrix multiplication of the input matrix (64, 784) times the weights matrix (784, 100) occurs first. This produces a matrix of (64, 100) - for each of the 64 images in the batch, we have 100 activations - a single one for each neuron. Next, we do matrix addition of the matrix multiplication result, (64, 100), plus the vector of 100 biases. The vector of 100 biases is broadcast into a matrix of (64, 100), so we have a bias for each neuron and each item in the batch. This results in the same (64, 100) matrix. We apply a nonlinear activation function to each of the results here, which is the final activation for that neuron. We need a nonlinearity between linear layers because stacking linear layers just produces more linear functions, so no useful combinations can be created unless we have a nonlinearity between each.\n",
    "\n",
    "The resulting activation of each neuron is basically represented as $f(y = w@x + b)$, where f is the activation function.\n",
    "\n",
    "For each subsequent layer of neurons, the same process occurs. For the second layer, in this  case the output layer, we have a parameters matrix of (100, 10), a weight for each of the activations of the prior layer neurons, for each of the 10 neurons in this layer. We have 10 in this output layer because there are 10 digits in the MNIST dataset to clasify (0-9). After the matrix operations on this layer, we have a matrix of (64, 10) numbers, a vector of 10 logits for each image in the batch. These are the raw, unnormalized predictions of the model. \n",
    "\n",
    "The highest value of each logits vector is effectively the model's prediction for the current data item. Typically, we'd need to do some normalization of the data in the output layer to get a final result. In the case of classification, we use the Softmax function (S shaped curve) which compresses all the logits into a range of numbers from 0-1 which collectively add up to 1. This represents the predicted probabilities of the model for each class. If we were doing regression, we may scale the final prediction into the appropriate range for our data's domain.\n",
    "\n",
    "To train the model, we loop through each batch of items in the dataloader for a number of epochs, each of which encompass a full pass through all the data. For each batch in an epoch, we pass the batch of input data through the model to produce the predictions. Then, we pass the predictions and the labels for the batch into the loss function to get a loss that tells us how well the model is doing. For classification, the loss is not just whether the model is correct, because this would not be continously differentiable (we would osscilate between gradients of 0 and infinity). Instead, we grade the prediction based on both whether it is right and how conident it is (confident and wrong is highest loss, confident and correct is lowest). \n",
    "\n",
    "Next, we perform a backwards pass through the model to calculate the gradients, which is basically calculating the partial derivative of each parameter with respect to the loss function. The partial derivative of a loss function for a parameter tells us the instantaneous rate of change of the loss function for that parameter, if all other parameters are held constant. Essentially, this lets us know how the loss would change if we adjusted the parameter slightly in one direction or another.\n",
    "\n",
    "Based on the gradients calculated, we use an optimizer to step each parameter in the direction *opposite* the gradient (think of the U quadratic loss function of $y = x^2$) times the learning rate. The gradient tells us both the direction to step each parameter, and the relative magnitude we should step by. The learning rate is an important balancing act of avoiding extremely slow training with a learning rate too low, as well as avoiding bouncing around and possibly diverging with a learning rate too high. This is the full process to train a single batch. We repeat this for every batch in the dataloader, and the model improves slightly each time. \n",
    "\n",
    "Validating a batch is the same process, but without the backwards pass and subsequent optimization. After we've done a training pass on every batch in the dataloader, we then do a validation pass, which tells us how well our model is *actually* doing because it uses data that the model was not trained on (training set vs. validation set). \n",
    "\n",
    "We repeat these training and validation passes for each epoch. The amount of epochs we use depends on a number of factors, but ultimately, we can train until the model either stops improving or starts getting worse.\n",
    "\n",
    "Making a prediction on a new image is simply passing the vector of numbers representing the image through the model with the trained parameters to get the model's predicted probabilities (or the predicted number, in the case of regression)."
   ]
  },
  {
   "cell_type": "markdown",
   "metadata": {},
   "source": [
    "## PyTorch Version\n",
    "\n",
    "Now that we've had a look at the Python version, let's update our code to fully leverage the PyTorch framework.\n",
    "\n",
    "There are a few main components we can simplify with PyTorch here - parameter initialization, model definition and the optimizer."
   ]
  },
  {
   "cell_type": "code",
   "execution_count": 9,
   "metadata": {},
   "outputs": [
    {
     "name": "stderr",
     "output_type": "stream",
     "text": [
      "/tmp/ipykernel_10474/3251691938.py:3: UserWarning: To copy construct from a tensor, it is recommended to use sourceTensor.clone().detach() or sourceTensor.clone().detach().requires_grad_(True), rather than torch.tensor(sourceTensor).\n",
      "  return torch.tensor(xb, device=device), torch.tensor(yb, device=device)\n"
     ]
    },
    {
     "name": "stdout",
     "output_type": "stream",
     "text": [
      "Avg loss: 2.1190261840820312, Avg acc: 0.4876592356687898\n",
      "Avg loss: 1.8594677448272705, Avg acc: 0.6716759554140127\n",
      "Avg loss: 1.5546401739120483, Avg acc: 0.734375\n",
      "Avg loss: 1.266465663909912, Avg acc: 0.7753781847133758\n",
      "Avg loss: 1.0422288179397583, Avg acc: 0.8055334394904459\n",
      "Avg loss: 0.8828763961791992, Avg acc: 0.8252388535031847\n",
      "Avg loss: 0.7713491320610046, Avg acc: 0.8363853503184714\n",
      "Avg loss: 0.6914654970169067, Avg acc: 0.8484275477707006\n",
      "Avg loss: 0.6321320533752441, Avg acc: 0.8558917197452229\n",
      "Avg loss: 0.5866104960441589, Avg acc: 0.8621616242038217\n",
      "Avg loss: 0.5503419041633606, Avg acc: 0.8682324840764332\n",
      "Avg loss: 0.5211775302886963, Avg acc: 0.8732085987261147\n",
      "Avg loss: 0.4969557225704193, Avg acc: 0.8778861464968153\n",
      "Avg loss: 0.4767436683177948, Avg acc: 0.8811703821656051\n",
      "Avg loss: 0.45953068137168884, Avg acc: 0.8842555732484076\n",
      "Avg loss: 0.4445933401584625, Avg acc: 0.8857484076433121\n",
      "Avg loss: 0.4315435290336609, Avg acc: 0.8885350318471338\n",
      "Avg loss: 0.42017701268196106, Avg acc: 0.8908240445859873\n",
      "Avg loss: 0.4100622236728668, Avg acc: 0.8939092356687898\n",
      "Avg loss: 0.4012039601802826, Avg acc: 0.8956011146496815\n",
      "Avg loss: 0.3934171795845032, Avg acc: 0.8958996815286624\n",
      "Avg loss: 0.38594093918800354, Avg acc: 0.8968949044585988\n",
      "Avg loss: 0.3796434998512268, Avg acc: 0.8976910828025477\n",
      "Avg loss: 0.3734529912471771, Avg acc: 0.8985867834394905\n",
      "Avg loss: 0.36817869544029236, Avg acc: 0.9001791401273885\n",
      "Avg loss: 0.36306849122047424, Avg acc: 0.9003781847133758\n",
      "Avg loss: 0.3584514558315277, Avg acc: 0.9028662420382165\n",
      "Avg loss: 0.35414156317710876, Avg acc: 0.9031648089171974\n",
      "Avg loss: 0.35022103786468506, Avg acc: 0.9034633757961783\n",
      "Avg loss: 0.3463318347930908, Avg acc: 0.9047571656050956\n",
      "Avg loss: 0.3424936830997467, Avg acc: 0.9057523885350318\n",
      "Avg loss: 0.33940625190734863, Avg acc: 0.9063495222929936\n",
      "Avg loss: 0.33619439601898193, Avg acc: 0.9066480891719745\n",
      "Avg loss: 0.3331829011440277, Avg acc: 0.9071457006369427\n",
      "Avg loss: 0.33022111654281616, Avg acc: 0.9078423566878981\n",
      "Avg loss: 0.32760265469551086, Avg acc: 0.9091361464968153\n",
      "Avg loss: 0.3251146972179413, Avg acc: 0.9095342356687898\n",
      "Avg loss: 0.3227316737174988, Avg acc: 0.9094347133757962\n",
      "Avg loss: 0.3203476369380951, Avg acc: 0.9103304140127388\n",
      "Avg loss: 0.31799420714378357, Avg acc: 0.910828025477707\n",
      "Avg loss: 0.3161848485469818, Avg acc: 0.9111265923566879\n",
      "Avg loss: 0.3140121400356293, Avg acc: 0.9115246815286624\n",
      "Avg loss: 0.31171634793281555, Avg acc: 0.9118232484076433\n",
      "Avg loss: 0.30988654494285583, Avg acc: 0.912718949044586\n",
      "Avg loss: 0.3081747591495514, Avg acc: 0.9131170382165605\n",
      "Avg loss: 0.30635207891464233, Avg acc: 0.9137141719745223\n",
      "Avg loss: 0.30441388487815857, Avg acc: 0.9143113057324841\n",
      "Avg loss: 0.30279234051704407, Avg acc: 0.9150079617834395\n",
      "Avg loss: 0.3011050224304199, Avg acc: 0.9152070063694268\n",
      "Avg loss: 0.29950013756752014, Avg acc: 0.9158041401273885\n"
     ]
    }
   ],
   "source": [
    "hidden_neurons = 100\n",
    "mnist_classes = 10\n",
    "\n",
    "epochs = 50\n",
    "lr = 0.001\n",
    "\n",
    "model = torch.nn.Sequential(\n",
    "    torch.nn.Linear(px_per_dim**2, hidden_neurons),\n",
    "    torch.nn.ReLU(),\n",
    "    torch.nn.Linear(hidden_neurons, mnist_classes)\n",
    ").to(device)\n",
    "\n",
    "optimizer = torch.optim.SGD(model.parameters(), lr=lr)\n",
    "\n",
    "def train_step(xb, yb):\n",
    "    preds = model(xb)\n",
    "    loss = loss_fn(preds, yb)\n",
    "    acc = accuracy(preds, yb)\n",
    "    \n",
    "    loss.backward()\n",
    "    optimizer.step()\n",
    "    optimizer.zero_grad()\n",
    "    return loss, acc\n",
    "\n",
    "def valid_step(xb, yb):\n",
    "    preds = model(xb)\n",
    "    loss = loss_fn(preds, yb)\n",
    "    acc = accuracy(preds, yb)\n",
    "    return loss, acc\n",
    "\n",
    "for epoch in range(epochs):\n",
    "    model.train()\n",
    "    for batch in dls.train:\n",
    "        xb, yb = batch\n",
    "        xb = to_bw_flattened(xb)\n",
    "        xb, yb = to_torch_tensor(xb, yb)\n",
    "        loss, acc = train_step(xb, yb)\n",
    "    \n",
    "    tot_loss, tot_acc = 0, 0\n",
    "    model.eval()\n",
    "    with torch.inference_mode():\n",
    "        for batch in dls.valid:\n",
    "            xb, yb = batch\n",
    "            xb = to_bw_flattened(xb)\n",
    "            xb, yb = to_torch_tensor(xb, yb)\n",
    "            loss, acc = valid_step(xb, yb)\n",
    "            tot_loss += loss\n",
    "            tot_acc += acc\n",
    "    \n",
    "    valid_batches = len(dls.valid)\n",
    "    print(f\"Avg loss: {tot_loss / valid_batches}, Avg acc: {tot_acc / valid_batches}\")"
   ]
  },
  {
   "cell_type": "markdown",
   "metadata": {},
   "source": [
    "## Fastai Version"
   ]
  },
  {
   "cell_type": "code",
   "execution_count": 9,
   "metadata": {},
   "outputs": [
    {
     "data": {
      "text/html": [
       "\n",
       "<style>\n",
       "    /* Turns off some styling */\n",
       "    progress {\n",
       "        /* gets rid of default border in Firefox and Opera. */\n",
       "        border: none;\n",
       "        /* Needs to be in here for Safari polyfill so background images work as expected. */\n",
       "        background-size: auto;\n",
       "    }\n",
       "    progress:not([value]), progress:not([value])::-webkit-progress-bar {\n",
       "        background: repeating-linear-gradient(45deg, #7e7e7e, #7e7e7e 10px, #5c5c5c 10px, #5c5c5c 20px);\n",
       "    }\n",
       "    .progress-bar-interrupted, .progress-bar-interrupted::-webkit-progress-bar {\n",
       "        background: #F44336;\n",
       "    }\n",
       "</style>\n"
      ],
      "text/plain": [
       "<IPython.core.display.HTML object>"
      ]
     },
     "metadata": {},
     "output_type": "display_data"
    },
    {
     "data": {
      "text/html": [
       "<table border=\"1\" class=\"dataframe\">\n",
       "  <thead>\n",
       "    <tr style=\"text-align: left;\">\n",
       "      <th>epoch</th>\n",
       "      <th>train_loss</th>\n",
       "      <th>valid_loss</th>\n",
       "      <th>accuracy</th>\n",
       "      <th>time</th>\n",
       "    </tr>\n",
       "  </thead>\n",
       "  <tbody>\n",
       "    <tr>\n",
       "      <td>0</td>\n",
       "      <td>2.129946</td>\n",
       "      <td>2.114764</td>\n",
       "      <td>0.593900</td>\n",
       "      <td>00:06</td>\n",
       "    </tr>\n",
       "    <tr>\n",
       "      <td>1</td>\n",
       "      <td>1.881100</td>\n",
       "      <td>1.853661</td>\n",
       "      <td>0.714400</td>\n",
       "      <td>00:06</td>\n",
       "    </tr>\n",
       "    <tr>\n",
       "      <td>2</td>\n",
       "      <td>1.572883</td>\n",
       "      <td>1.541816</td>\n",
       "      <td>0.761300</td>\n",
       "      <td>00:06</td>\n",
       "    </tr>\n",
       "    <tr>\n",
       "      <td>3</td>\n",
       "      <td>1.283322</td>\n",
       "      <td>1.249866</td>\n",
       "      <td>0.792200</td>\n",
       "      <td>00:06</td>\n",
       "    </tr>\n",
       "    <tr>\n",
       "      <td>4</td>\n",
       "      <td>1.046620</td>\n",
       "      <td>1.027308</td>\n",
       "      <td>0.814100</td>\n",
       "      <td>00:06</td>\n",
       "    </tr>\n",
       "    <tr>\n",
       "      <td>5</td>\n",
       "      <td>0.903751</td>\n",
       "      <td>0.872338</td>\n",
       "      <td>0.830000</td>\n",
       "      <td>00:06</td>\n",
       "    </tr>\n",
       "    <tr>\n",
       "      <td>6</td>\n",
       "      <td>0.802927</td>\n",
       "      <td>0.764822</td>\n",
       "      <td>0.843300</td>\n",
       "      <td>00:06</td>\n",
       "    </tr>\n",
       "    <tr>\n",
       "      <td>7</td>\n",
       "      <td>0.706461</td>\n",
       "      <td>0.687306</td>\n",
       "      <td>0.852000</td>\n",
       "      <td>00:06</td>\n",
       "    </tr>\n",
       "    <tr>\n",
       "      <td>8</td>\n",
       "      <td>0.653654</td>\n",
       "      <td>0.629597</td>\n",
       "      <td>0.860000</td>\n",
       "      <td>00:06</td>\n",
       "    </tr>\n",
       "    <tr>\n",
       "      <td>9</td>\n",
       "      <td>0.618564</td>\n",
       "      <td>0.585336</td>\n",
       "      <td>0.865100</td>\n",
       "      <td>00:06</td>\n",
       "    </tr>\n",
       "    <tr>\n",
       "      <td>10</td>\n",
       "      <td>0.567692</td>\n",
       "      <td>0.549787</td>\n",
       "      <td>0.869700</td>\n",
       "      <td>00:06</td>\n",
       "    </tr>\n",
       "    <tr>\n",
       "      <td>11</td>\n",
       "      <td>0.540789</td>\n",
       "      <td>0.521059</td>\n",
       "      <td>0.873100</td>\n",
       "      <td>00:06</td>\n",
       "    </tr>\n",
       "    <tr>\n",
       "      <td>12</td>\n",
       "      <td>0.517458</td>\n",
       "      <td>0.497209</td>\n",
       "      <td>0.877400</td>\n",
       "      <td>00:06</td>\n",
       "    </tr>\n",
       "    <tr>\n",
       "      <td>13</td>\n",
       "      <td>0.506534</td>\n",
       "      <td>0.476976</td>\n",
       "      <td>0.880800</td>\n",
       "      <td>00:06</td>\n",
       "    </tr>\n",
       "    <tr>\n",
       "      <td>14</td>\n",
       "      <td>0.484127</td>\n",
       "      <td>0.459900</td>\n",
       "      <td>0.882500</td>\n",
       "      <td>00:06</td>\n",
       "    </tr>\n",
       "    <tr>\n",
       "      <td>15</td>\n",
       "      <td>0.493277</td>\n",
       "      <td>0.445302</td>\n",
       "      <td>0.885700</td>\n",
       "      <td>00:06</td>\n",
       "    </tr>\n",
       "    <tr>\n",
       "      <td>16</td>\n",
       "      <td>0.447437</td>\n",
       "      <td>0.432457</td>\n",
       "      <td>0.887600</td>\n",
       "      <td>00:06</td>\n",
       "    </tr>\n",
       "    <tr>\n",
       "      <td>17</td>\n",
       "      <td>0.452843</td>\n",
       "      <td>0.421337</td>\n",
       "      <td>0.888700</td>\n",
       "      <td>00:06</td>\n",
       "    </tr>\n",
       "    <tr>\n",
       "      <td>18</td>\n",
       "      <td>0.427732</td>\n",
       "      <td>0.411363</td>\n",
       "      <td>0.890500</td>\n",
       "      <td>00:06</td>\n",
       "    </tr>\n",
       "    <tr>\n",
       "      <td>19</td>\n",
       "      <td>0.423788</td>\n",
       "      <td>0.402526</td>\n",
       "      <td>0.892200</td>\n",
       "      <td>00:06</td>\n",
       "    </tr>\n",
       "    <tr>\n",
       "      <td>20</td>\n",
       "      <td>0.419309</td>\n",
       "      <td>0.394768</td>\n",
       "      <td>0.894400</td>\n",
       "      <td>00:06</td>\n",
       "    </tr>\n",
       "    <tr>\n",
       "      <td>21</td>\n",
       "      <td>0.393970</td>\n",
       "      <td>0.387335</td>\n",
       "      <td>0.894800</td>\n",
       "      <td>00:06</td>\n",
       "    </tr>\n",
       "    <tr>\n",
       "      <td>22</td>\n",
       "      <td>0.400102</td>\n",
       "      <td>0.381104</td>\n",
       "      <td>0.896800</td>\n",
       "      <td>00:06</td>\n",
       "    </tr>\n",
       "    <tr>\n",
       "      <td>23</td>\n",
       "      <td>0.402530</td>\n",
       "      <td>0.375143</td>\n",
       "      <td>0.897800</td>\n",
       "      <td>00:07</td>\n",
       "    </tr>\n",
       "    <tr>\n",
       "      <td>24</td>\n",
       "      <td>0.389652</td>\n",
       "      <td>0.369483</td>\n",
       "      <td>0.898700</td>\n",
       "      <td>00:07</td>\n",
       "    </tr>\n",
       "    <tr>\n",
       "      <td>25</td>\n",
       "      <td>0.384730</td>\n",
       "      <td>0.364424</td>\n",
       "      <td>0.899800</td>\n",
       "      <td>00:06</td>\n",
       "    </tr>\n",
       "    <tr>\n",
       "      <td>26</td>\n",
       "      <td>0.385978</td>\n",
       "      <td>0.359872</td>\n",
       "      <td>0.899600</td>\n",
       "      <td>00:06</td>\n",
       "    </tr>\n",
       "    <tr>\n",
       "      <td>27</td>\n",
       "      <td>0.362544</td>\n",
       "      <td>0.355360</td>\n",
       "      <td>0.901300</td>\n",
       "      <td>00:06</td>\n",
       "    </tr>\n",
       "    <tr>\n",
       "      <td>28</td>\n",
       "      <td>0.344226</td>\n",
       "      <td>0.351494</td>\n",
       "      <td>0.902100</td>\n",
       "      <td>00:06</td>\n",
       "    </tr>\n",
       "    <tr>\n",
       "      <td>29</td>\n",
       "      <td>0.355812</td>\n",
       "      <td>0.347739</td>\n",
       "      <td>0.902900</td>\n",
       "      <td>00:06</td>\n",
       "    </tr>\n",
       "    <tr>\n",
       "      <td>30</td>\n",
       "      <td>0.366739</td>\n",
       "      <td>0.343942</td>\n",
       "      <td>0.903900</td>\n",
       "      <td>00:08</td>\n",
       "    </tr>\n",
       "    <tr>\n",
       "      <td>31</td>\n",
       "      <td>0.366932</td>\n",
       "      <td>0.341039</td>\n",
       "      <td>0.904700</td>\n",
       "      <td>00:07</td>\n",
       "    </tr>\n",
       "    <tr>\n",
       "      <td>32</td>\n",
       "      <td>0.350749</td>\n",
       "      <td>0.337649</td>\n",
       "      <td>0.905500</td>\n",
       "      <td>00:06</td>\n",
       "    </tr>\n",
       "    <tr>\n",
       "      <td>33</td>\n",
       "      <td>0.331384</td>\n",
       "      <td>0.334685</td>\n",
       "      <td>0.906100</td>\n",
       "      <td>00:06</td>\n",
       "    </tr>\n",
       "    <tr>\n",
       "      <td>34</td>\n",
       "      <td>0.341972</td>\n",
       "      <td>0.331836</td>\n",
       "      <td>0.906400</td>\n",
       "      <td>00:06</td>\n",
       "    </tr>\n",
       "    <tr>\n",
       "      <td>35</td>\n",
       "      <td>0.346096</td>\n",
       "      <td>0.328931</td>\n",
       "      <td>0.907200</td>\n",
       "      <td>00:06</td>\n",
       "    </tr>\n",
       "    <tr>\n",
       "      <td>36</td>\n",
       "      <td>0.342675</td>\n",
       "      <td>0.326522</td>\n",
       "      <td>0.907700</td>\n",
       "      <td>00:06</td>\n",
       "    </tr>\n",
       "    <tr>\n",
       "      <td>37</td>\n",
       "      <td>0.342243</td>\n",
       "      <td>0.323977</td>\n",
       "      <td>0.908100</td>\n",
       "      <td>00:06</td>\n",
       "    </tr>\n",
       "    <tr>\n",
       "      <td>38</td>\n",
       "      <td>0.341258</td>\n",
       "      <td>0.321525</td>\n",
       "      <td>0.909400</td>\n",
       "      <td>00:06</td>\n",
       "    </tr>\n",
       "    <tr>\n",
       "      <td>39</td>\n",
       "      <td>0.334316</td>\n",
       "      <td>0.319175</td>\n",
       "      <td>0.909400</td>\n",
       "      <td>00:06</td>\n",
       "    </tr>\n",
       "    <tr>\n",
       "      <td>40</td>\n",
       "      <td>0.333990</td>\n",
       "      <td>0.316877</td>\n",
       "      <td>0.909400</td>\n",
       "      <td>00:06</td>\n",
       "    </tr>\n",
       "    <tr>\n",
       "      <td>41</td>\n",
       "      <td>0.333032</td>\n",
       "      <td>0.314940</td>\n",
       "      <td>0.910300</td>\n",
       "      <td>00:07</td>\n",
       "    </tr>\n",
       "    <tr>\n",
       "      <td>42</td>\n",
       "      <td>0.313622</td>\n",
       "      <td>0.312967</td>\n",
       "      <td>0.911300</td>\n",
       "      <td>00:06</td>\n",
       "    </tr>\n",
       "    <tr>\n",
       "      <td>43</td>\n",
       "      <td>0.337117</td>\n",
       "      <td>0.310880</td>\n",
       "      <td>0.911800</td>\n",
       "      <td>00:06</td>\n",
       "    </tr>\n",
       "    <tr>\n",
       "      <td>44</td>\n",
       "      <td>0.316867</td>\n",
       "      <td>0.309114</td>\n",
       "      <td>0.912400</td>\n",
       "      <td>00:06</td>\n",
       "    </tr>\n",
       "    <tr>\n",
       "      <td>45</td>\n",
       "      <td>0.296746</td>\n",
       "      <td>0.307234</td>\n",
       "      <td>0.913100</td>\n",
       "      <td>00:06</td>\n",
       "    </tr>\n",
       "    <tr>\n",
       "      <td>46</td>\n",
       "      <td>0.317803</td>\n",
       "      <td>0.305375</td>\n",
       "      <td>0.913900</td>\n",
       "      <td>00:06</td>\n",
       "    </tr>\n",
       "    <tr>\n",
       "      <td>47</td>\n",
       "      <td>0.321032</td>\n",
       "      <td>0.303890</td>\n",
       "      <td>0.913800</td>\n",
       "      <td>00:06</td>\n",
       "    </tr>\n",
       "    <tr>\n",
       "      <td>48</td>\n",
       "      <td>0.320403</td>\n",
       "      <td>0.302287</td>\n",
       "      <td>0.914000</td>\n",
       "      <td>00:06</td>\n",
       "    </tr>\n",
       "    <tr>\n",
       "      <td>49</td>\n",
       "      <td>0.317314</td>\n",
       "      <td>0.300449</td>\n",
       "      <td>0.915000</td>\n",
       "      <td>00:06</td>\n",
       "    </tr>\n",
       "  </tbody>\n",
       "</table>"
      ],
      "text/plain": [
       "<IPython.core.display.HTML object>"
      ]
     },
     "metadata": {},
     "output_type": "display_data"
    }
   ],
   "source": [
    "hidden_neurons = 100\n",
    "mnist_classes = 10\n",
    "\n",
    "epochs = 50\n",
    "lr = 0.001\n",
    "\n",
    "class GrayFlatLayer(torch.nn.Module):\n",
    "    def __init__(self, lambd):\n",
    "        super().__init__()\n",
    "        self.lambd = lambd\n",
    "\n",
    "    def forward(self, x):\n",
    "        return self.lambd(x)\n",
    "\n",
    "model = torch.nn.Sequential(\n",
    "    GrayFlatLayer(torchvision.transforms.Lambda(to_bw_flattened)),\n",
    "    torch.nn.Linear(px_per_dim**2, hidden_neurons),\n",
    "    torch.nn.ReLU(),\n",
    "    torch.nn.Linear(hidden_neurons, mnist_classes)\n",
    ").to(device)\n",
    "\n",
    "# Note this is using my common accuracy function (not the fastai accuracy)\n",
    "# There's some compatability issues using their acc function (probably due to the way\n",
    "# I'm manipulating the image).\n",
    "# **NOTE** Issue seems to be that I used MultiCategoryBlock instead of CategoryBlock in\n",
    "# the dataloaders code\n",
    "# TODO: make a clean version using to guide dataset creation\n",
    "# https://github.com/fastai/fastai/blob/master/nbs/examples/migrating_pytorch.py\n",
    "learner = fai_vision.Learner(\n",
    "    dls, model, lr=lr, loss_func=loss_fn, opt_func=fai_vision.SGD, metrics=accuracy\n",
    ")\n",
    "\n",
    "learner.fit(epochs, lr)"
   ]
  },
  {
   "cell_type": "code",
   "execution_count": 12,
   "metadata": {},
   "outputs": [
    {
     "data": {
      "text/html": [
       "\n",
       "<style>\n",
       "    /* Turns off some styling */\n",
       "    progress {\n",
       "        /* gets rid of default border in Firefox and Opera. */\n",
       "        border: none;\n",
       "        /* Needs to be in here for Safari polyfill so background images work as expected. */\n",
       "        background-size: auto;\n",
       "    }\n",
       "    progress:not([value]), progress:not([value])::-webkit-progress-bar {\n",
       "        background: repeating-linear-gradient(45deg, #7e7e7e, #7e7e7e 10px, #5c5c5c 10px, #5c5c5c 20px);\n",
       "    }\n",
       "    .progress-bar-interrupted, .progress-bar-interrupted::-webkit-progress-bar {\n",
       "        background: #F44336;\n",
       "    }\n",
       "</style>\n"
      ],
      "text/plain": [
       "<IPython.core.display.HTML object>"
      ]
     },
     "metadata": {},
     "output_type": "display_data"
    },
    {
     "data": {
      "text/html": [
       "<table border=\"1\" class=\"dataframe\">\n",
       "  <thead>\n",
       "    <tr style=\"text-align: left;\">\n",
       "      <th>epoch</th>\n",
       "      <th>train_loss</th>\n",
       "      <th>valid_loss</th>\n",
       "      <th>accuracy</th>\n",
       "      <th>time</th>\n",
       "    </tr>\n",
       "  </thead>\n",
       "  <tbody>\n",
       "    <tr>\n",
       "      <td>0</td>\n",
       "      <td>0.115750</td>\n",
       "      <td>0.080717</td>\n",
       "      <td>0.858600</td>\n",
       "      <td>00:13</td>\n",
       "    </tr>\n",
       "  </tbody>\n",
       "</table>"
      ],
      "text/plain": [
       "<IPython.core.display.HTML object>"
      ]
     },
     "metadata": {},
     "output_type": "display_data"
    },
    {
     "data": {
      "text/html": [
       "\n",
       "<style>\n",
       "    /* Turns off some styling */\n",
       "    progress {\n",
       "        /* gets rid of default border in Firefox and Opera. */\n",
       "        border: none;\n",
       "        /* Needs to be in here for Safari polyfill so background images work as expected. */\n",
       "        background-size: auto;\n",
       "    }\n",
       "    progress:not([value]), progress:not([value])::-webkit-progress-bar {\n",
       "        background: repeating-linear-gradient(45deg, #7e7e7e, #7e7e7e 10px, #5c5c5c 10px, #5c5c5c 20px);\n",
       "    }\n",
       "    .progress-bar-interrupted, .progress-bar-interrupted::-webkit-progress-bar {\n",
       "        background: #F44336;\n",
       "    }\n",
       "</style>\n"
      ],
      "text/plain": [
       "<IPython.core.display.HTML object>"
      ]
     },
     "metadata": {},
     "output_type": "display_data"
    },
    {
     "data": {
      "text/html": [
       "<table border=\"1\" class=\"dataframe\">\n",
       "  <thead>\n",
       "    <tr style=\"text-align: left;\">\n",
       "      <th>epoch</th>\n",
       "      <th>train_loss</th>\n",
       "      <th>valid_loss</th>\n",
       "      <th>accuracy</th>\n",
       "      <th>time</th>\n",
       "    </tr>\n",
       "  </thead>\n",
       "  <tbody>\n",
       "    <tr>\n",
       "      <td>0</td>\n",
       "      <td>0.022116</td>\n",
       "      <td>0.012227</td>\n",
       "      <td>0.980000</td>\n",
       "      <td>00:20</td>\n",
       "    </tr>\n",
       "    <tr>\n",
       "      <td>1</td>\n",
       "      <td>0.011561</td>\n",
       "      <td>0.007477</td>\n",
       "      <td>0.987300</td>\n",
       "      <td>00:51</td>\n",
       "    </tr>\n",
       "    <tr>\n",
       "      <td>2</td>\n",
       "      <td>0.008046</td>\n",
       "      <td>0.005278</td>\n",
       "      <td>0.990800</td>\n",
       "      <td>00:18</td>\n",
       "    </tr>\n",
       "    <tr>\n",
       "      <td>3</td>\n",
       "      <td>0.003458</td>\n",
       "      <td>0.005133</td>\n",
       "      <td>0.992300</td>\n",
       "      <td>00:18</td>\n",
       "    </tr>\n",
       "    <tr>\n",
       "      <td>4</td>\n",
       "      <td>0.002332</td>\n",
       "      <td>0.004719</td>\n",
       "      <td>0.993000</td>\n",
       "      <td>00:18</td>\n",
       "    </tr>\n",
       "  </tbody>\n",
       "</table>"
      ],
      "text/plain": [
       "<IPython.core.display.HTML object>"
      ]
     },
     "metadata": {},
     "output_type": "display_data"
    },
    {
     "name": "stderr",
     "output_type": "stream",
     "text": [
      "Exception ignored in: <function _MultiProcessingDataLoaderIter.__del__ at 0x7f1a5fd45f80>\n",
      "Traceback (most recent call last):\n",
      "  File \"/home/daynil/mambaforge-pypy3/envs/ai-base/lib/python3.11/site-packages/torch/utils/data/dataloader.py\", line 1478, in __del__\n",
      "    self._shutdown_workers()\n",
      "  File \"/home/daynil/mambaforge-pypy3/envs/ai-base/lib/python3.11/site-packages/torch/utils/data/dataloader.py\", line 1442, in _shutdown_workers\n",
      "    w.join(timeout=_utils.MP_STATUS_CHECK_INTERVAL)\n",
      "  File \"/home/daynil/mambaforge-pypy3/envs/ai-base/lib/python3.11/multiprocessing/process.py\", line 149, in join\n",
      "    res = self._popen.wait(timeout)\n",
      "          ^^^^^^^^^^^^^^^^^^^^^^^^^\n",
      "  File \"/home/daynil/mambaforge-pypy3/envs/ai-base/lib/python3.11/multiprocessing/popen_fork.py\", line 40, in wait\n",
      "    if not wait([self.sentinel], timeout):\n",
      "           ^^^^^^^^^^^^^^^^^^^^^^^^^^^^^^\n",
      "  File \"/home/daynil/mambaforge-pypy3/envs/ai-base/lib/python3.11/multiprocessing/connection.py\", line 947, in wait\n",
      "    ready = selector.select(timeout)\n",
      "            ^^^^^^^^^^^^^^^^^^^^^^^^\n",
      "  File \"/home/daynil/mambaforge-pypy3/envs/ai-base/lib/python3.11/selectors.py\", line 415, in select\n",
      "    fd_event_list = self._selector.poll(timeout)\n",
      "                    ^^^^^^^^^^^^^^^^^^^^^^^^^^^^\n",
      "KeyboardInterrupt: \n"
     ]
    }
   ],
   "source": [
    "epochs = 5\n",
    "\n",
    "learner = fai_vision.vision_learner(\n",
    "    dls, fai_vision.resnet18, metrics=accuracy\n",
    ")\n",
    "\n",
    "learner.fine_tune(epochs)"
   ]
  }
 ],
 "metadata": {
  "kernelspec": {
   "display_name": "base",
   "language": "python",
   "name": "python3"
  },
  "language_info": {
   "codemirror_mode": {
    "name": "ipython",
    "version": 3
   },
   "file_extension": ".py",
   "mimetype": "text/x-python",
   "name": "python",
   "nbconvert_exporter": "python",
   "pygments_lexer": "ipython3",
   "version": "3.11.6"
  }
 },
 "nbformat": 4,
 "nbformat_minor": 2
}
