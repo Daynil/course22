{
 "cells": [
  {
   "cell_type": "code",
   "execution_count": 1,
   "metadata": {},
   "outputs": [],
   "source": [
    "import fastai.data.all as fai_data\n",
    "import fastai.vision.all as fai_vision\n",
    "import torch\n",
    "import torchvision\n",
    "import numpy as np\n",
    "from matplotlib import pyplot as plt"
   ]
  },
  {
   "cell_type": "code",
   "execution_count": 2,
   "metadata": {},
   "outputs": [
    {
     "data": {
      "text/plain": [
       "'cuda'"
      ]
     },
     "execution_count": 2,
     "metadata": {},
     "output_type": "execute_result"
    }
   ],
   "source": [
    "device = \"cuda\" if torch.cuda.is_available() else \"cpu\"\n",
    "device"
   ]
  },
  {
   "cell_type": "code",
   "execution_count": 3,
   "metadata": {},
   "outputs": [
    {
     "data": {
      "text/plain": [
       "Path('/home/daynil/.fastai/data/mnist_png')"
      ]
     },
     "execution_count": 3,
     "metadata": {},
     "output_type": "execute_result"
    }
   ],
   "source": [
    "path = fai_data.untar_data(fai_data.URLs.MNIST)\n",
    "path"
   ]
  },
  {
   "cell_type": "code",
   "execution_count": 4,
   "metadata": {},
   "outputs": [],
   "source": [
    "dls = fai_vision.DataBlock(\n",
    "    blocks=(fai_vision.ImageBlock, fai_vision.MultiCategoryBlock),\n",
    "    get_items=fai_vision.get_image_files,\n",
    "    splitter=fai_vision.GrandparentSplitter('training', 'testing'),\n",
    "    get_y=fai_vision.parent_label\n",
    ").dataloaders(path)"
   ]
  },
  {
   "cell_type": "code",
   "execution_count": 5,
   "metadata": {},
   "outputs": [
    {
     "data": {
      "image/png": "[encoded data removed]",
      "text/plain": [
       "<Figure size 900x600 with 6 Axes>"
      ]
     },
     "metadata": {},
     "output_type": "display_data"
    }
   ],
   "source": [
    "dls.show_batch(max_n=6)"
   ]
  },
  {
   "cell_type": "code",
   "execution_count": 139,
   "metadata": {},
   "outputs": [
    {
     "data": {
      "text/plain": [
       "torch.Size([64, 3, 28, 28])"
      ]
     },
     "execution_count": 139,
     "metadata": {},
     "output_type": "execute_result"
    }
   ],
   "source": [
    "images, labels = dls.train.one_batch()\n",
    "# We have a batch of 64 images, with an RGB stack (3) of 28x28 pixels\n",
    "images.shape"
   ]
  },
  {
   "cell_type": "code",
   "execution_count": 140,
   "metadata": {},
   "outputs": [
    {
     "name": "stdout",
     "output_type": "stream",
     "text": [
      "TensorMultiCategory(4, device='cuda:0')\n"
     ]
    },
    {
     "data": {
      "text/plain": [
       "<Axes: >"
      ]
     },
     "execution_count": 140,
     "metadata": {},
     "output_type": "execute_result"
    },
    {
     "data": {
      "image/png": "[encoded data removed]",
      "text/plain": [
       "<Figure size 100x100 with 1 Axes>"
      ]
     },
     "metadata": {},
     "output_type": "display_data"
    }
   ],
   "source": [
    "one_image = images[0]\n",
    "print(labels[0].argmax())\n",
    "one_image.show()"
   ]
  },
  {
   "cell_type": "markdown",
   "metadata": {},
   "source": [
    "For the purposes of our pure python learner version, we want to compress the RGB image to grayscale, then combine all of the pixel rows into 1 row. This way, we can assign a weight to each pixel."
   ]
  },
  {
   "cell_type": "code",
   "execution_count": 141,
   "metadata": {},
   "outputs": [
    {
     "data": {
      "text/plain": [
       "(torch.Size([3, 28, 28]),\n",
       " torch.Size([1, 28, 28]),\n",
       " torch.Size([28, 28]),\n",
       " torch.Size([784]))"
      ]
     },
     "execution_count": 141,
     "metadata": {},
     "output_type": "execute_result"
    }
   ],
   "source": [
    "gray_image = torchvision.transforms.functional.rgb_to_grayscale(one_image)\n",
    "gray_image_squeezed = gray_image.squeeze()\n",
    "gray_image_squeezed_flattened = gray_image_squeezed.flatten()\n",
    "one_image.shape, gray_image.shape, gray_image_squeezed.shape, gray_image_squeezed_flattened.shape"
   ]
  },
  {
   "cell_type": "code",
   "execution_count": 142,
   "metadata": {},
   "outputs": [
    {
     "data": {
      "text/plain": [
       "torch.Size([64, 784])"
      ]
     },
     "execution_count": 142,
     "metadata": {},
     "output_type": "execute_result"
    }
   ],
   "source": [
    "# Pixels per dimension\n",
    "px_per_dim = 28\n",
    "images_tfmd = (\n",
    "    torchvision.transforms.functional\n",
    "        .rgb_to_grayscale(images).squeeze().view(64, px_per_dim**2)\n",
    ")\n",
    "images_tfmd.shape"
   ]
  },
  {
   "cell_type": "code",
   "execution_count": 6,
   "metadata": {},
   "outputs": [
    {
     "data": {
      "text/plain": [
       "<torch._C.Generator at 0x7fba6db23590>"
      ]
     },
     "execution_count": 6,
     "metadata": {},
     "output_type": "execute_result"
    }
   ],
   "source": [
    "# Pixels per dimension\n",
    "px_per_dim = 28\n",
    "torch.random.manual_seed(42)"
   ]
  },
  {
   "cell_type": "markdown",
   "metadata": {},
   "source": [
    "To create a simple 1-layer neural network, we need to initialize the parameters in a particular way.\n",
    "\n",
    "First, we need a weight for each pixel in the image, so 28*28 (784) weights, as well as a bias. This produces the parameters for a single neuron.\n",
    "\n",
    "One neuron won't be enough to do anything useful, so we create this set of parameters for the amount of neurons we want, in this case, 100. Effectively, we get a set of 784 weights and 1 bias for each of the 100 neurons.\n",
    "\n",
    "We represent this with tensors by creating a weights tensor and a bias tensor. The weights tensor is (pixels, hidden_neurons), and the bias is just hidden_neurons."
   ]
  },
  {
   "cell_type": "code",
   "execution_count": 7,
   "metadata": {},
   "outputs": [],
   "source": [
    "hidden_neurons = 100\n",
    "# There are a total of 10 number classes (digits 0-9)\n",
    "mnist_classes = 10\n",
    "\n",
    "weights_layer_1 = torch.randn((px_per_dim**2, hidden_neurons), requires_grad=True, device=device)\n",
    "bias_layer_1 = torch.randn(hidden_neurons, requires_grad=True, device=device)\n",
    "\n",
    "weights_layer_2 = torch.randn((hidden_neurons, mnist_classes), requires_grad=True, device=device)\n",
    "bias_layer_2 = torch.randn(mnist_classes, requires_grad=True, device=device)"
   ]
  },
  {
   "cell_type": "markdown",
   "metadata": {},
   "source": [
    "Breaking down each of the model's forward pass, we have:\n",
    "\n",
    "First linear layer:\n",
    "Matrix multiply a batch of images by its weights and add the biases:\n",
    "$$y = wx + b$$\n",
    "\n",
    "This gives us a single output, y, for each neuron, so we have **100 total outputs per image**.\n",
    "\n",
    "It's hard to associate this linear equation properly *per image* because matrix multiplication involves two \"layers\" of data - a `batch` of `batch_size` images as well as a set of weights of length `px` (pixels per image). If we apply the equation above to a single image, we get:\n",
    "\n",
    "$$y = w_{px}x_{px} + b$$\n",
    "\n",
    "This means we're matrix multiplying each individual pixel in the image by a weight for that image, then adding a bias. So here, y is the result for a single image, for a single neuron.\n",
    "\n",
    "However, in practice, we never use a single data item in our matrix multiplication because the GPU needs to have enough data to process for it to be efficient. Likewise, we also usually have more than one neuron in a given layer."
   ]
  },
  {
   "cell_type": "code",
   "execution_count": 8,
   "metadata": {},
   "outputs": [
    {
     "ename": "NameError",
     "evalue": "name 'images_tfmd' is not defined",
     "output_type": "error",
     "traceback": [
      "\u001b[0;31m---------------------------------------------------------------------------\u001b[0m",
      "\u001b[0;31mNameError\u001b[0m                                 Traceback (most recent call last)",
      "\u001b[1;32m/home/daynil/coding/data-science/fastai/course22/04-mnist-3ways.ipynb Cell 15\u001b[0m line \u001b[0;36m1\n\u001b[0;32m----> <a href='vscode-notebook-cell://wsl%2Bubuntuf/home/daynil/coding/data-science/fastai/course22/04-mnist-3ways.ipynb#X20sdnNjb2RlLXJlbW90ZQ%3D%3D?line=0'>1</a>\u001b[0m res \u001b[39m=\u001b[39m images_tfmd\u001b[39m@weights_layer_1\u001b[39m \u001b[39m+\u001b[39m bias_layer_1\n\u001b[1;32m      <a href='vscode-notebook-cell://wsl%2Bubuntuf/home/daynil/coding/data-science/fastai/course22/04-mnist-3ways.ipynb#X20sdnNjb2RlLXJlbW90ZQ%3D%3D?line=1'>2</a>\u001b[0m res\u001b[39m.\u001b[39mshape\n",
      "\u001b[0;31mNameError\u001b[0m: name 'images_tfmd' is not defined"
     ]
    }
   ],
   "source": [
    "res = images_tfmd@weights_layer_1 + bias_layer_1\n",
    "res.shape"
   ]
  },
  {
   "cell_type": "code",
   "execution_count": null,
   "metadata": {},
   "outputs": [
    {
     "data": {
      "text/plain": [
       "TensorImage([[ 5.8395e-01,  7.7099e-01,  3.2095e-01,  ...,  1.6309e+01,\n",
       "               1.5097e+01,  8.4860e+00],\n",
       "             [-2.3377e+00, -5.4933e+00,  2.7442e+00,  ...,  1.1085e+01,\n",
       "              -1.6795e+00, -7.7791e+00],\n",
       "             [ 8.8088e+00, -4.0023e-02, -7.4369e+00,  ...,  1.4133e+01,\n",
       "               1.4072e+00, -5.3275e+00],\n",
       "             ...,\n",
       "             [ 2.4089e+01, -1.4402e-02,  1.4289e+01,  ...,  4.3825e+00,\n",
       "               2.3052e+00, -5.7478e+00],\n",
       "             [ 1.2136e+01, -6.9187e-01,  1.0098e+01,  ...,  1.6278e+01,\n",
       "               1.4465e+00,  4.1869e-01],\n",
       "             [ 9.3971e+00, -2.5722e+00,  4.3713e+00,  ...,  2.8283e-01,\n",
       "               5.3905e+00,  3.2354e+00]], device='cuda:0',\n",
       "            grad_fn=<AliasBackward0>)"
      ]
     },
     "metadata": {},
     "output_type": "display_data"
    }
   ],
   "source": [
    "res[0]"
   ]
  },
  {
   "cell_type": "markdown",
   "metadata": {},
   "source": [
    "So here, we're taking a batch of 64 images of 784 pixels each, our first matrix, and performing matrix multiplication by 784 weights (one for each pixel) for 100 neurons. The resulting matrix is, for each of the 64 images in the batch, we get a single activation for each of the 100 neurons. We then do a final matrix addition operation, adding the bias for each neuron the the result of the matrix multiplication.\n",
    "\n",
    "It's a very simple linear equation, but the fact that this vast number of computations can be encompassed by a single operation took some time for me to fully digest and appreciate.\n",
    "\n",
    "All of this comes together very elegently on a GPU, where the process can be extensively parallelized across many threads and cores, resulting in an extremely fast and efficient operation.\n",
    "\n",
    "Ultimately, we're performing the $y = w_{px}x_{px} + b$ operation in parallel for batches of multiple items and for multiple neurons.\n",
    "\n",
    "The next step is to use an activation function such as a ReLU to apply a nonlinearity to each of our neurons. All this does is turns negative values to 0 and leaves positive values as they are."
   ]
  },
  {
   "cell_type": "code",
   "execution_count": 200,
   "metadata": {},
   "outputs": [],
   "source": [
    "res = torch.nn.ReLU()(res)"
   ]
  },
  {
   "cell_type": "markdown",
   "metadata": {},
   "source": [
    "Then, we can repeat the same linear operation as before, but now on the set of 64 batches of 100 linear activations from the previous layer matrix multiplied by a new set of 100 weights for each activation for each of our 10 final neurons."
   ]
  },
  {
   "cell_type": "code",
   "execution_count": 207,
   "metadata": {},
   "outputs": [
    {
     "data": {
      "text/plain": [
       "torch.Size([64, 10])"
      ]
     },
     "execution_count": 207,
     "metadata": {},
     "output_type": "execute_result"
    }
   ],
   "source": [
    "res = res@weights_layer_2 + bias_layer_2\n",
    "res.shape"
   ]
  },
  {
   "cell_type": "markdown",
   "metadata": {},
   "source": [
    "This produces a set of 64 batches of logits, one for each image. The logits are a vector of 10 numbers representing the raw predictions of our model for each of the 10 digits in the mnist dataset."
   ]
  },
  {
   "cell_type": "code",
   "execution_count": 213,
   "metadata": {},
   "outputs": [
    {
     "data": {
      "text/plain": [
       "TensorImage([-42.5143, 141.6074, -76.3715, -12.9963, -72.4300, 121.3955,\n",
       "             242.9164, 108.5102,  31.6789, -50.5750], device='cuda:0',\n",
       "            grad_fn=<AliasBackward0>)"
      ]
     },
     "execution_count": 213,
     "metadata": {},
     "output_type": "execute_result"
    }
   ],
   "source": [
    "res[1]"
   ]
  },
  {
   "cell_type": "markdown",
   "metadata": {},
   "source": [
    "Finally, we can normalize our 10 logits using the softmax function, which produces values between 0 and 1, representing the model's final predicted probability that the given image is one each of the 10 digits in our dataset."
   ]
  },
  {
   "cell_type": "code",
   "execution_count": 214,
   "metadata": {},
   "outputs": [
    {
     "data": {
      "text/plain": [
       "TensorImage([0.0000e+00, 9.8091e-45, 0.0000e+00, 0.0000e+00, 0.0000e+00,\n",
       "             0.0000e+00, 1.0000e+00, 0.0000e+00, 0.0000e+00, 0.0000e+00],\n",
       "            device='cuda:0', grad_fn=<AliasBackward0>)"
      ]
     },
     "execution_count": 214,
     "metadata": {},
     "output_type": "execute_result"
    }
   ],
   "source": [
    "res = torch.nn.Softmax(dim=1)(res)\n",
    "res[1]"
   ]
  },
  {
   "cell_type": "code",
   "execution_count": 215,
   "metadata": {},
   "outputs": [
    {
     "data": {
      "text/plain": [
       "TensorImage(6, device='cuda:0')"
      ]
     },
     "execution_count": 215,
     "metadata": {},
     "output_type": "execute_result"
    }
   ],
   "source": [
    "res[1].argmax()"
   ]
  },
  {
   "cell_type": "markdown",
   "metadata": {},
   "source": [
    "In this case, the model is close to 100% certain that the image is of the number 6."
   ]
  },
  {
   "cell_type": "markdown",
   "metadata": {},
   "source": [
    "TODO:\n",
    "Add a simplified visualization of the above matrix multiplication and neural network using batches of 2 images that are 2x2 pixels with 3 neurons."
   ]
  },
  {
   "cell_type": "markdown",
   "metadata": {},
   "source": [
    "Putting it all together, we can create a function which represents our forward pass through our model."
   ]
  },
  {
   "cell_type": "code",
   "execution_count": 11,
   "metadata": {},
   "outputs": [],
   "source": [
    "def simple_net(image_batch):\n",
    "    res = image_batch@weights_layer_1 + bias_layer_1\n",
    "    res = torch.nn.ReLU()(res)\n",
    "    res = res@weights_layer_2 + bias_layer_2\n",
    "    # This needs to go later (cross entropy loss expects unnormalized logits)\n",
    "    # res = torch.nn.Softmax(dim=1)(res)\n",
    "    return res"
   ]
  },
  {
   "cell_type": "markdown",
   "metadata": {},
   "source": [
    "Now, we need to implement the actual training and validation logic, which will automate the process of updating the weights. First, we need to a loss function to determine how good or bad our predictions are.\n",
    "\n",
    "For multi-class classification, we use cross entropy. This is basically a fancy way of saying the loss increases based on distance from the correct answer. So if the digit was actually a 4, and our predicted probability for 4 was 0.01%, our loss would be very high, if our predicted probability for 4 was 55.2%, our loss would be lower, and if our predicted probability was 99.5%, our loss would be very low.\n",
    "\n",
    "[StatQuest: Neural Networks Part 6: Cross Entropy](https://www.youtube.com/watch?app=desktop&v=6ArSys5qHAU)"
   ]
  },
  {
   "cell_type": "code",
   "execution_count": 9,
   "metadata": {},
   "outputs": [],
   "source": [
    "def to_torch_tensor(xb: torch.Tensor, yb):\n",
    "    return torch.tensor(xb, device=device), torch.tensor(yb, device=device)"
   ]
  },
  {
   "cell_type": "code",
   "execution_count": 12,
   "metadata": {},
   "outputs": [
    {
     "name": "stdout",
     "output_type": "stream",
     "text": [
      "Epoch 0...\n"
     ]
    },
    {
     "name": "stderr",
     "output_type": "stream",
     "text": [
      "/tmp/ipykernel_27324/3740451061.py:2: UserWarning: To copy construct from a tensor, it is recommended to use sourceTensor.clone().detach() or sourceTensor.clone().detach().requires_grad_(True), rather than torch.tensor(sourceTensor).\n",
      "  return torch.tensor(xb, device=device), torch.tensor(yb, device=device)\n"
     ]
    },
    {
     "name": "stdout",
     "output_type": "stream",
     "text": [
      "Train loss: 35.11794804865166 - Train acc: 0.250383537886873\n",
      "Valid loss: 19.432587699525676 - Valid acc: 0.40764331210191085\n",
      "Epoch 1...\n",
      "Train loss: 25.119187320945358 - Train acc: 0.36797958911419426\n",
      "Valid loss: 15.453860891093115 - Valid acc: 0.4846238057324841\n",
      "Epoch 2...\n",
      "Train loss: 20.14946638108657 - Train acc: 0.4432864194236926\n",
      "Valid loss: 13.158077038270905 - Valid acc: 0.5374867303609342\n",
      "Epoch 3...\n",
      "Train loss: 17.12754355525258 - Train acc: 0.4955768076307364\n",
      "Valid loss: 11.641736162316267 - Valid acc: 0.57531349522293\n",
      "Epoch 4...\n",
      "Train loss: 15.06765787456435 - Train acc: 0.5340948505869797\n",
      "Valid loss: 10.546466695123417 - Valid acc: 0.6034633757961784\n",
      "Epoch 5...\n",
      "Train loss: 13.5584081017178 - Train acc: 0.5639952419067947\n",
      "Valid loss: 9.706976051796268 - Valid acc: 0.625431263269639\n",
      "Epoch 6...\n",
      "Train loss: 12.395416464469731 - Train acc: 0.5878897316664126\n",
      "Valid loss: 9.036716467405146 - Valid acc: 0.6432125796178344\n",
      "Epoch 7...\n",
      "Train loss: 11.466081347559026 - Train acc: 0.6075802928228389\n",
      "Valid loss: 8.4865755557919 - Valid acc: 0.6580911624203821\n",
      "Epoch 8...\n",
      "Train loss: 10.70268658811789 - Train acc: 0.6242959207873829\n",
      "Valid loss: 8.023686804030268 - Valid acc: 0.6707028485491862\n",
      "Epoch 9...\n",
      "Train loss: 10.062231614158401 - Train acc: 0.6386189300960512\n",
      "Valid loss: 7.627209699130172 - Valid acc: 0.6816580414012738\n",
      "Epoch 10...\n",
      "Train loss: 9.515118483649525 - Train acc: 0.6511457625885321\n",
      "Valid loss: 7.282735188968898 - Valid acc: 0.6914447017950203\n",
      "Epoch 11...\n",
      "Train loss: 9.041326806341486 - Train acc: 0.66207254980434\n",
      "Valid loss: 6.979703757105169 - Valid acc: 0.6999071125265393\n",
      "Epoch 12...\n",
      "Train loss: 8.625699990843916 - Train acc: 0.6718467798210328\n",
      "Valid loss: 6.710340649131385 - Valid acc: 0.7075116364527193\n",
      "Epoch 13...\n",
      "Train loss: 8.257498354762497 - Train acc: 0.6805867891446867\n",
      "Valid loss: 6.468986514030369 - Valid acc: 0.7143496929026387\n",
      "Epoch 14...\n",
      "Train loss: 7.9282131167397045 - Train acc: 0.6885283262184276\n",
      "Valid loss: 6.250948733916297 - Valid acc: 0.7205015923566879\n",
      "Epoch 15...\n",
      "Train loss: 7.63175185490499 - Train acc: 0.6957418956776947\n",
      "Valid loss: 6.052649445007229 - Valid acc: 0.7261022093949044\n",
      "Epoch 16...\n",
      "Train loss: 7.362960621455466 - Train acc: 0.702357924226254\n",
      "Valid loss: 5.871158821070368 - Valid acc: 0.7312722461596104\n",
      "Epoch 17...\n",
      "Train loss: 7.117829943079973 - Train acc: 0.7084546943555081\n",
      "Valid loss: 5.7044624554610275 - Valid acc: 0.7360171178343949\n",
      "Epoch 18...\n",
      "Train loss: 6.893087635927573 - Train acc: 0.7140676782003034\n",
      "Valid loss: 5.5506099507921665 - Valid acc: 0.7403568136104592\n",
      "Epoch 19...\n",
      "Train loss: 6.686121642273099 - Train acc: 0.7193027948239061\n",
      "Valid loss: 5.407697335937339 - Valid acc: 0.7443869426751593\n",
      "Epoch 20...\n",
      "Train loss: 6.494742414169137 - Train acc: 0.7241639985770189\n",
      "Valid loss: 5.274711382714452 - Valid acc: 0.7481422505307855\n",
      "Epoch 21...\n",
      "Train loss: 6.317181538969374 - Train acc: 0.728703793538372\n",
      "Valid loss: 5.1504372634362285 - Valid acc: 0.7516964027214823\n",
      "Epoch 22...\n",
      "Train loss: 6.151737598749243 - Train acc: 0.732924951278363\n",
      "Valid loss: 5.034141558286016 - Valid acc: 0.7549761146496815\n",
      "Epoch 23...\n",
      "Train loss: 5.9971895970494264 - Train acc: 0.7369048214603344\n",
      "Valid loss: 4.9247054866922895 - Valid acc: 0.7580903330679406\n",
      "Epoch 24...\n",
      "Train loss: 5.852397209068754 - Train acc: 0.7406556830309499\n",
      "Valid loss: 4.821680722700115 - Valid acc: 0.7610230891719745\n",
      "Epoch 25...\n",
      "Train loss: 5.716331583830574 - Train acc: 0.7441872845004516\n",
      "Valid loss: 4.724330840127972 - Valid acc: 0.7637800097991181\n",
      "Epoch 26...\n",
      "Train loss: 5.588171049438309 - Train acc: 0.7475227528756078\n",
      "Valid loss: 4.632321537054665 - Valid acc: 0.7664248643548006\n",
      "Epoch 27...\n",
      "Train loss: 5.467203470572027 - Train acc: 0.7506789335264522\n",
      "Valid loss: 4.545042085634432 - Valid acc: 0.7689732142857143\n",
      "Epoch 28...\n",
      "Train loss: 5.352763547796393 - Train acc: 0.7536778235748721\n",
      "Valid loss: 4.46238776588428 - Valid acc: 0.7714075884032506\n",
      "Epoch 29...\n",
      "Train loss: 5.244325288382237 - Train acc: 0.7565212557808609\n",
      "Valid loss: 4.383569918675847 - Valid acc: 0.773765923566879\n",
      "Epoch 30...\n",
      "Train loss: 5.141353955107818 - Train acc: 0.7592377224842497\n",
      "Valid loss: 4.308370516237341 - Valid acc: 0.7759913704540785\n",
      "Epoch 31...\n",
      "Train loss: 5.043425861173066 - Train acc: 0.7618333944770544\n",
      "Valid loss: 4.236697089519419 - Valid acc: 0.7781212679140127\n",
      "Epoch 32...\n",
      "Train loss: 4.950148095856863 - Train acc: 0.7643177371365738\n",
      "Valid loss: 4.168196082424047 - Valid acc: 0.7801884288747346\n",
      "Epoch 33...\n",
      "Train loss: 4.861121922704738 - Train acc: 0.7666829171636638\n",
      "Valid loss: 4.102644963447461 - Valid acc: 0.782119356500562\n",
      "Epoch 34...\n",
      "Train loss: 4.776122464430207 - Train acc: 0.7689539182802256\n",
      "Valid loss: 4.039867037269464 - Valid acc: 0.7839484758871702\n",
      "Epoch 35...\n",
      "Train loss: 4.694808368486617 - Train acc: 0.7711371990987786\n",
      "Valid loss: 3.9797298265081675 - Valid acc: 0.785684271054494\n",
      "Epoch 36...\n",
      "Train loss: 4.6169234335692435 - Train acc: 0.7732177882257925\n",
      "Valid loss: 3.921906195256158 - Valid acc: 0.7873665863315544\n",
      "Epoch 37...\n",
      "Train loss: 4.542271828410204 - Train acc: 0.7752143248328933\n",
      "Valid loss: 3.8664103529559477 - Valid acc: 0.788968215722427\n",
      "Epoch 38...\n",
      "Train loss: 4.470585507706423 - Train acc: 0.7771319917631284\n",
      "Valid loss: 3.8128717399925143 - Valid acc: 0.7905361954924057\n",
      "Epoch 39...\n",
      "Train loss: 4.401692559505269 - Train acc: 0.7789721184631804\n",
      "Valid loss: 3.7612937347891946 - Valid acc: 0.7920357285031847\n",
      "Epoch 40...\n",
      "Train loss: 4.335423120530389 - Train acc: 0.780746479423172\n",
      "Valid loss: 3.7115747284495733 - Valid acc: 0.7934912420382165\n",
      "Epoch 41...\n",
      "Train loss: 4.271611657320966 - Train acc: 0.7824681099761143\n",
      "Valid loss: 3.66360679239384 - Valid acc: 0.7948916628753412\n",
      "Epoch 42...\n",
      "Train loss: 4.210093582426849 - Train acc: 0.7841321573056017\n",
      "Valid loss: 3.6172712557364197 - Valid acc: 0.7962477781069471\n",
      "Epoch 43...\n",
      "Train loss: 4.150765473236664 - Train acc: 0.7857402736004657\n",
      "Valid loss: 3.5725516589561663 - Valid acc: 0.7974992762015055\n",
      "Epoch 44...\n",
      "Train loss: 4.093497531596634 - Train acc: 0.7872924819162813\n",
      "Valid loss: 3.5292251348077155 - Valid acc: 0.798763711960368\n",
      "Epoch 45...\n",
      "Train loss: 4.038124663415197 - Train acc: 0.7887869907428889\n",
      "Valid loss: 3.487262948590309 - Valid acc: 0.7999601910828026\n",
      "Epoch 46...\n",
      "Train loss: 3.9846344181850797 - Train acc: 0.7902423845909308\n",
      "Valid loss: 3.446657795722205 - Valid acc: 0.8011142261824096\n",
      "Epoch 47...\n",
      "Train loss: 3.9328658560291596 - Train acc: 0.7916562444414799\n",
      "Valid loss: 3.407213170035779 - Valid acc: 0.8022657908704883\n",
      "Epoch 48...\n",
      "Train loss: 3.882722119227689 - Train acc: 0.7930222649358569\n",
      "Valid loss: 3.3689678766992657 - Valid acc: 0.8033622286494215\n",
      "Epoch 49...\n",
      "Train loss: 3.8341304686199575 - Train acc: 0.7943473185699039\n",
      "Valid loss: 3.331855733606595 - Valid acc: 0.8044167993630573\n"
     ]
    }
   ],
   "source": [
    "epochs = 50\n",
    "lr = 0.001\n",
    "train_loss = []\n",
    "train_acc = []\n",
    "epoch_train_loss = []\n",
    "epoch_train_acc = []\n",
    "valid_acc = []\n",
    "valid_loss = []\n",
    "epoch_valid_acc = []\n",
    "epoch_valid_loss = []\n",
    "\n",
    "def to_bw_flattened(xb):\n",
    "    return (torchvision.transforms.functional\n",
    "                    .rgb_to_grayscale(xb).squeeze().view(\n",
    "                        xb.shape[0], px_per_dim**2)\n",
    "                )\n",
    "\n",
    "def accuracy(preds, yb):\n",
    "    accuracy_tns = (preds.argmax(dim=1) == yb.argmax(dim=1)).float()\n",
    "    return (accuracy_tns.sum() / len(accuracy_tns)).item()\n",
    "\n",
    "def optimize(loss):\n",
    "    params = [weights_layer_1, bias_layer_1, weights_layer_2, bias_layer_2]\n",
    "\n",
    "    loss.backward()\n",
    "\n",
    "    for param in params:\n",
    "        param.data -= param.grad.data * lr\n",
    "    \n",
    "    for param in params:\n",
    "        param.grad.zero_()\n",
    "\n",
    "\n",
    "def train_step(xb, yb):\n",
    "    preds = simple_net(xb)\n",
    "    loss = torch.nn.CrossEntropyLoss()(preds, yb)\n",
    "    acc = accuracy(preds, yb)\n",
    "    optimize(loss)\n",
    "    return loss, acc\n",
    "\n",
    "def valid_step(xb, yb):\n",
    "    with torch.inference_mode():\n",
    "        preds = simple_net(xb)\n",
    "        loss = torch.nn.CrossEntropyLoss()(preds, yb)\n",
    "        acc = accuracy(preds, yb)\n",
    "        return loss, acc\n",
    "\n",
    "for epoch in range(epochs):\n",
    "    print(f\"Epoch {epoch}...\")\n",
    "    for batch in dls.train:\n",
    "        xb, yb = batch\n",
    "        xb = to_bw_flattened(xb)\n",
    "        xb, yb = to_torch_tensor(xb, yb)\n",
    "        loss, acc = train_step(xb, yb)\n",
    "        train_loss.append(loss.item())\n",
    "        train_acc.append(acc)\n",
    "    \n",
    "    batch_loss = np.mean(train_loss)\n",
    "    batch_acc = np.mean(train_acc)\n",
    "    epoch_train_loss.append(batch_loss)\n",
    "    epoch_train_acc.append(batch_acc)\n",
    "    print(f'Train loss: {batch_loss} - Train acc: {batch_acc}')\n",
    "    \n",
    "    for batch in dls.valid:\n",
    "        xb, yb = batch\n",
    "        xb = to_bw_flattened(xb)\n",
    "        xb, yb = to_torch_tensor(xb, yb)\n",
    "        loss, acc = valid_step(xb, yb)\n",
    "        valid_loss.append(loss.item())\n",
    "        valid_acc.append(acc)\n",
    "\n",
    "    batch_loss = np.mean(valid_loss)\n",
    "    batch_acc = np.mean(valid_acc)\n",
    "    epoch_valid_loss.append(batch_loss)\n",
    "    epoch_valid_acc.append(batch_acc)\n",
    "    print(f'Valid loss: {batch_loss} - Valid acc: {batch_acc}')"
   ]
  },
  {
   "cell_type": "code",
   "execution_count": 14,
   "metadata": {},
   "outputs": [
    {
     "data": {
      "image/png": "[encoded data removed]",
      "text/plain": [
       "<Figure size 1000x400 with 1 Axes>"
      ]
     },
     "metadata": {},
     "output_type": "display_data"
    },
    {
     "data": {
      "image/png": "[encoded data removed]",
      "text/plain": [
       "<Figure size 1000x400 with 1 Axes>"
      ]
     },
     "metadata": {},
     "output_type": "display_data"
    }
   ],
   "source": [
    "x = range(0, len(epoch_train_loss))\n",
    "plt.figure(figsize=(10, 4))\n",
    "plt.title('Loss')\n",
    "plt.xlabel('Epoch')\n",
    "plt.plot(x, epoch_train_loss, label=\"Train\")\n",
    "plt.plot(x, epoch_valid_loss, label=\"Valid\")\n",
    "plt.legend()\n",
    "plt.show()\n",
    "\n",
    "x = range(0, len(epoch_train_acc))\n",
    "plt.figure(figsize=(10, 4))\n",
    "plt.title('Accuracy')\n",
    "plt.xlabel('Epoch')\n",
    "plt.plot(x, epoch_train_acc, label=\"Train\")\n",
    "plt.plot(x, epoch_valid_acc, label=\"Valid\")\n",
    "plt.legend()\n",
    "plt.show()"
   ]
  }
 ],
 "metadata": {
  "kernelspec": {
   "display_name": "base",
   "language": "python",
   "name": "python3"
  },
  "language_info": {
   "codemirror_mode": {
    "name": "ipython",
    "version": 3
   },
   "file_extension": ".py",
   "mimetype": "text/x-python",
   "name": "python",
   "nbconvert_exporter": "python",
   "pygments_lexer": "ipython3",
   "version": "3.11.6"
  }
 },
 "nbformat": 4,
 "nbformat_minor": 2
}
