{
 "cells": [
  {
   "cell_type": "code",
   "execution_count": 5,
   "metadata": {},
   "outputs": [
    {
     "data": {
      "text/html": [
       "\n",
       "<style>\n",
       "    /* Turns off some styling */\n",
       "    progress {\n",
       "        /* gets rid of default border in Firefox and Opera. */\n",
       "        border: none;\n",
       "        /* Needs to be in here for Safari polyfill so background images work as expected. */\n",
       "        background-size: auto;\n",
       "    }\n",
       "    progress:not([value]), progress:not([value])::-webkit-progress-bar {\n",
       "        background: repeating-linear-gradient(45deg, #7e7e7e, #7e7e7e 10px, #5c5c5c 10px, #5c5c5c 20px);\n",
       "    }\n",
       "    .progress-bar-interrupted, .progress-bar-interrupted::-webkit-progress-bar {\n",
       "        background: #F44336;\n",
       "    }\n",
       "</style>\n"
      ],
      "text/plain": [
       "<IPython.core.display.HTML object>"
      ]
     },
     "metadata": {},
     "output_type": "display_data"
    },
    {
     "data": {
      "text/html": [
       "\n",
       "    <div>\n",
       "      <progress value='15687680' class='' max='15683414' style='width:300px; height:20px; vertical-align: middle;'></progress>\n",
       "      100.03% [15687680/15683414 00:04&lt;00:00]\n",
       "    </div>\n",
       "    "
      ],
      "text/plain": [
       "<IPython.core.display.HTML object>"
      ]
     },
     "metadata": {},
     "output_type": "display_data"
    }
   ],
   "source": [
    "import fastai.data.all as fai_data\n",
    "import fastai.vision.all as fai_vision\n",
    "import torch\n",
    "import torchvision"
   ]
  },
  {
   "cell_type": "code",
   "execution_count": 122,
   "metadata": {},
   "outputs": [
    {
     "data": {
      "text/plain": [
       "'cuda'"
      ]
     },
     "execution_count": 122,
     "metadata": {},
     "output_type": "execute_result"
    }
   ],
   "source": [
    "device = \"cuda\" if torch.cuda.is_available() else \"cpu\"\n",
    "device"
   ]
  },
  {
   "cell_type": "code",
   "execution_count": 6,
   "metadata": {},
   "outputs": [
    {
     "data": {
      "text/plain": [
       "Path('/home/daynil/.fastai/data/mnist_png')"
      ]
     },
     "execution_count": 6,
     "metadata": {},
     "output_type": "execute_result"
    }
   ],
   "source": [
    "path = fai_data.untar_data(fai_data.URLs.MNIST)\n",
    "path"
   ]
  },
  {
   "cell_type": "code",
   "execution_count": 8,
   "metadata": {},
   "outputs": [],
   "source": [
    "dls = fai_vision.DataBlock(\n",
    "    blocks=(fai_vision.ImageBlock, fai_vision.MultiCategoryBlock),\n",
    "    get_items=fai_vision.get_image_files,\n",
    "    splitter=fai_vision.GrandparentSplitter('training', 'testing'),\n",
    "    get_y=fai_vision.parent_label\n",
    ").dataloaders(path)"
   ]
  },
  {
   "cell_type": "code",
   "execution_count": 10,
   "metadata": {},
   "outputs": [
    {
     "data": {
      "image/png": "[encoded data removed]",
      "text/plain": [
       "<Figure size 900x600 with 6 Axes>"
      ]
     },
     "metadata": {},
     "output_type": "display_data"
    }
   ],
   "source": [
    "dls.show_batch(max_n=6)"
   ]
  },
  {
   "cell_type": "code",
   "execution_count": 139,
   "metadata": {},
   "outputs": [
    {
     "data": {
      "text/plain": [
       "torch.Size([64, 3, 28, 28])"
      ]
     },
     "execution_count": 139,
     "metadata": {},
     "output_type": "execute_result"
    }
   ],
   "source": [
    "images, labels = dls.train.one_batch()\n",
    "# We have a batch of 64 images, with an RGB stack (3) of 28x28 pixels\n",
    "images.shape"
   ]
  },
  {
   "cell_type": "code",
   "execution_count": 140,
   "metadata": {},
   "outputs": [
    {
     "name": "stdout",
     "output_type": "stream",
     "text": [
      "TensorMultiCategory(4, device='cuda:0')\n"
     ]
    },
    {
     "data": {
      "text/plain": [
       "<Axes: >"
      ]
     },
     "execution_count": 140,
     "metadata": {},
     "output_type": "execute_result"
    },
    {
     "data": {
      "image/png": "[encoded data removed]",
      "text/plain": [
       "<Figure size 100x100 with 1 Axes>"
      ]
     },
     "metadata": {},
     "output_type": "display_data"
    }
   ],
   "source": [
    "one_image = images[0]\n",
    "print(labels[0].argmax())\n",
    "one_image.show()"
   ]
  },
  {
   "cell_type": "markdown",
   "metadata": {},
   "source": [
    "For the purposes of our pure python learner version, we want to compress the RGB image to grayscale, then combine all of the pixel rows into 1 row. This way, we can assign a weight to each pixel."
   ]
  },
  {
   "cell_type": "code",
   "execution_count": 141,
   "metadata": {},
   "outputs": [
    {
     "data": {
      "text/plain": [
       "(torch.Size([3, 28, 28]),\n",
       " torch.Size([1, 28, 28]),\n",
       " torch.Size([28, 28]),\n",
       " torch.Size([784]))"
      ]
     },
     "execution_count": 141,
     "metadata": {},
     "output_type": "execute_result"
    }
   ],
   "source": [
    "gray_image = torchvision.transforms.functional.rgb_to_grayscale(one_image)\n",
    "gray_image_squeezed = gray_image.squeeze()\n",
    "gray_image_squeezed_flattened = gray_image_squeezed.flatten()\n",
    "one_image.shape, gray_image.shape, gray_image_squeezed.shape, gray_image_squeezed_flattened.shape"
   ]
  },
  {
   "cell_type": "code",
   "execution_count": 142,
   "metadata": {},
   "outputs": [
    {
     "data": {
      "text/plain": [
       "torch.Size([64, 784])"
      ]
     },
     "execution_count": 142,
     "metadata": {},
     "output_type": "execute_result"
    }
   ],
   "source": [
    "# Pixels per dimension\n",
    "px_per_dim = 28\n",
    "images_tfmd = (\n",
    "    torchvision.transforms.functional\n",
    "        .rgb_to_grayscale(images).squeeze().view(64, px_per_dim**2)\n",
    ")\n",
    "images_tfmd.shape"
   ]
  },
  {
   "cell_type": "code",
   "execution_count": 168,
   "metadata": {},
   "outputs": [
    {
     "data": {
      "text/plain": [
       "<torch._C.Generator at 0x7fc522ecf4f0>"
      ]
     },
     "execution_count": 168,
     "metadata": {},
     "output_type": "execute_result"
    }
   ],
   "source": [
    "torch.random.manual_seed(42)"
   ]
  },
  {
   "cell_type": "markdown",
   "metadata": {},
   "source": [
    "To create a simple 1-layer neural network, we need to initialize the parameters in a particular way.\n",
    "\n",
    "First, we need a weight for each pixel in the image, so 28*28 (784) weights, as well as a bias. This produces the parameters for a single neuron.\n",
    "\n",
    "One neuron won't be enough to do anything useful, so we create this set of parameters for the amount of neurons we want, in this case, 100. Effectively, we get a set of 784 weights and 1 bias for each of the 100 neurons.\n",
    "\n",
    "We represent this with tensors by creating a weights tensor and a bias tensor. The weights tensor is (pixels, hidden_neurons), and the bias is just hidden_neurons."
   ]
  },
  {
   "cell_type": "code",
   "execution_count": 206,
   "metadata": {},
   "outputs": [],
   "source": [
    "hidden_neurons = 100\n",
    "# There are a total of 10 number classes (digits 0-9)\n",
    "mnist_classes = 10\n",
    "\n",
    "weights_layer_1 = torch.randn((px_per_dim**2, hidden_neurons), requires_grad=True, device=device)\n",
    "bias_layer_1 = torch.randn(hidden_neurons, requires_grad=True, device=device)\n",
    "\n",
    "weights_layer_2 = torch.randn((hidden_neurons, mnist_classes), requires_grad=True, device=device)\n",
    "bias_layer_2 = torch.randn(mnist_classes, requires_grad=True, device=device)"
   ]
  },
  {
   "cell_type": "markdown",
   "metadata": {},
   "source": [
    "Breaking down each of the model's forward pass, we have:\n",
    "\n",
    "First linear layer:\n",
    "Matrix multiply a batch of images by its weights and add the biases:\n",
    "$$y = wx + b$$\n",
    "\n",
    "This gives us a single output, y, for each neuron, so we have **100 total outputs per image**.\n",
    "\n",
    "It's hard to associate this linear equation properly *per image* because matrix multiplication involves two \"layers\" of data - a `batch` of `batch_size` images as well as a set of weights of length `px` (pixels per image). If we apply the equation above to a single image, we get:\n",
    "\n",
    "$$y = w_{px}x_{px} + b$$\n",
    "\n",
    "This means we're matrix multiplying each individual pixel in the image by a weight for that image, then adding a bias.\n",
    "\n",
    "However, in practice, we never use a single data item in our matrix multiplication because the GPU needs to have enough data to process for it to be efficient. This is where the bit that is tricky to visualize comes in:\n",
    "\n",
    "TODO:\n",
    "- (refine this - is it wrong? which is \"batch\" and which is \"num_neurons\"?)\n",
    "- Add some images of the simples FCC network that I have in my obsidian per-step with matrix multiplication at each step visualized (for a simplified e.g. 4x4 pixel image).\n",
    "\n",
    "$$y = w_{batch}x_{batch} + b_{batch}$$\n",
    "\n",
    "Now, we're *simultaneously* getting $wb$ for pixels *of every image in the batch* in a single operation, then adding a . That's the beauty of matrix multiplication - this is done practically instantaneously on the GPU, and we get a single tensor of size (64, 100) as our final result for *the entire layer of 100 neurons and 64 images*. That is, 64 images in a batch, 100 outputs for each image, each output representing the $y$ in the linear equation."
   ]
  },
  {
   "cell_type": "code",
   "execution_count": 205,
   "metadata": {},
   "outputs": [
    {
     "data": {
      "text/plain": [
       "torch.Size([64, 100])"
      ]
     },
     "execution_count": 205,
     "metadata": {},
     "output_type": "execute_result"
    }
   ],
   "source": [
    "preds = images_tfmd@weights_layer_1 + bias_layer_1\n",
    "preds.shape"
   ]
  },
  {
   "cell_type": "code",
   "execution_count": 199,
   "metadata": {},
   "outputs": [
    {
     "data": {
      "text/plain": [
       "TensorImage([[ 5.8395e-01,  7.7099e-01,  3.2095e-01,  ...,  1.6309e+01,\n",
       "               1.5097e+01,  8.4860e+00],\n",
       "             [-2.3377e+00, -5.4933e+00,  2.7442e+00,  ...,  1.1085e+01,\n",
       "              -1.6795e+00, -7.7791e+00],\n",
       "             [ 8.8088e+00, -4.0023e-02, -7.4369e+00,  ...,  1.4133e+01,\n",
       "               1.4072e+00, -5.3275e+00],\n",
       "             ...,\n",
       "             [ 2.4089e+01, -1.4402e-02,  1.4289e+01,  ...,  4.3825e+00,\n",
       "               2.3052e+00, -5.7478e+00],\n",
       "             [ 1.2136e+01, -6.9187e-01,  1.0098e+01,  ...,  1.6278e+01,\n",
       "               1.4465e+00,  4.1869e-01],\n",
       "             [ 9.3971e+00, -2.5722e+00,  4.3713e+00,  ...,  2.8283e-01,\n",
       "               5.3905e+00,  3.2354e+00]], device='cuda:0',\n",
       "            grad_fn=<AliasBackward0>)"
      ]
     },
     "execution_count": 199,
     "metadata": {},
     "output_type": "execute_result"
    }
   ],
   "source": [
    "preds"
   ]
  },
  {
   "cell_type": "code",
   "execution_count": 200,
   "metadata": {},
   "outputs": [],
   "source": [
    "preds_relu = torch.nn.ReLU()(preds)"
   ]
  },
  {
   "cell_type": "code",
   "execution_count": 201,
   "metadata": {},
   "outputs": [],
   "source": [
    "preds2 = preds_relu@weights_layer_2 + bias_layer_2"
   ]
  },
  {
   "cell_type": "code",
   "execution_count": 202,
   "metadata": {},
   "outputs": [
    {
     "data": {
      "text/plain": [
       "torch.Size([64, 10])"
      ]
     },
     "execution_count": 202,
     "metadata": {},
     "output_type": "execute_result"
    }
   ],
   "source": [
    "preds2.shape"
   ]
  },
  {
   "cell_type": "code",
   "execution_count": 203,
   "metadata": {},
   "outputs": [],
   "source": [
    "final_preds = torch.nn.Softmax(dim=1)(preds2)"
   ]
  },
  {
   "cell_type": "code",
   "execution_count": 204,
   "metadata": {},
   "outputs": [
    {
     "data": {
      "text/plain": [
       "(TensorImage([  19.0906,   16.9825,  -91.3657,   11.6825,  -24.6830, -123.1642,\n",
       "               160.3725,   42.3721,   80.2896,   19.8143], device='cuda:0',\n",
       "             grad_fn=<AliasBackward0>),\n",
       " TensorImage([0.0000e+00, 0.0000e+00, 0.0000e+00, 0.0000e+00, 0.0000e+00,\n",
       "              0.0000e+00, 1.0000e+00, 0.0000e+00, 1.6614e-35, 0.0000e+00],\n",
       "             device='cuda:0', grad_fn=<AliasBackward0>))"
      ]
     },
     "execution_count": 204,
     "metadata": {},
     "output_type": "execute_result"
    }
   ],
   "source": [
    "preds2[0], final_preds[0]"
   ]
  }
 ],
 "metadata": {
  "kernelspec": {
   "display_name": "base",
   "language": "python",
   "name": "python3"
  },
  "language_info": {
   "codemirror_mode": {
    "name": "ipython",
    "version": 3
   },
   "file_extension": ".py",
   "mimetype": "text/x-python",
   "name": "python",
   "nbconvert_exporter": "python",
   "pygments_lexer": "ipython3",
   "version": "3.11.6"
  }
 },
 "nbformat": 4,
 "nbformat_minor": 2
}
