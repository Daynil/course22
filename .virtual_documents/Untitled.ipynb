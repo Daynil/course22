


from bs4 import BeautifulSoup
import httpx


# This site has the top 30 bird feeder birds in Florida
r = httpx.get("https://avianreport.com/florida-backyard-feeder-birds/")
r


r.text[:100]


soup = BeautifulSoup(r.text)
bird_rows = soup.select_one("table").find_all("tr")[:3]
bird_rows


for row in bird_rows:
    print(row)
