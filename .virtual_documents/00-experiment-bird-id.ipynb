


from bs4 import BeautifulSoup
import httpx
import json
from pathlib import Path
import re
from time import sleep

from fastdownload import download_url
import fastai.vision.all as fai_vision
import fastai.data.all as fai_data


# This site has the top 30 bird feeder birds in Florida
r = httpx.get("https://avianreport.com/florida-backyard-feeder-birds/")
r


r.text[:100]


soup = BeautifulSoup(r.text)
bird_rows = soup.select_one("table").find_all("tr")
bird_rows[:3]


# The table on this page has the top 30 in order of frequency visiting feeder
# Feeder frequency is "Percentage of Florida backyard feeders visited" as reported by observations
birds = []
# The first column is the header
for row in bird_rows[1:]:
    bird_cols = row.find_all('td')
    birds.append({"bird_name": bird_cols[1].get_text(), "feeder_frequency": bird_cols[2].get_text()})


with Path("00-top-30-birds.json").open("w+") as f:
    json.dump(birds, f)


with Path("00-top-30-birds.json").open("r") as f:
    birds = json.load(f)
birds[:3]


def get_env_item(item: str, env_path = Path(".env")):
    """
    Simple utility function to get a key from a .env file.
    """
    env = env_path.open().read()
    res = re.search(item + r"=(.*)", env_path.open().read())
    if not res:
        raise Exception(f"{item} not found in env: {env_path}")
    return res.group(1)


# https://learn.microsoft.com/en-us/bing/search-apis/bing-image-search/quickstarts/rest/python
# https://learn.microsoft.com/en-us/bing/search-apis/bing-image-search/reference/query-parameters?source=recommendations
sub_key = get_env_item("BING_SUBSCRIPTION_KEY")
search_url = "https://api.bing.microsoft.com/v7.0/images/search"
headers = {"Ocp-Apim-Subscription-Key" : sub_key}
params  = {"license": "public", "imageType": "photo"}


search_params = {"q": birds[0]['bird_name'], **params}
search_params

res = httpx.get(search_url, headers=headers, params=search_params)


res.json()


im_url = res.json()['value'][0]['contentUrl']
im_url


dest = "northern_cardinal.jpg"
download_url(im_url, dest)


im = fai_vision.Image.open(dest)
im.to_thumb(256,256)


bird_name_path = '_'.join([o.lower() for o in birds[0]['bird_name'].split(' ')])
t = Path('./datasets')/'bird_id'/bird_name_path
t.mkdir(exist_ok=True)


birds[0]['bird_name']


for bird in birds:
    bird_name = bird['bird_name']
    bird_name_path = '_'.join([o.lower() for o in bird_name.split(' ')])
    
    # We got the first bird search while testing
    # if bird_name == birds[0]['bird_name']:
    if bird_name in ['Northern Cardinal']:
        continue
        # bird_res = res
    else:
        bird_res = httpx.get(search_url, headers=headers, params={"q": bird_name, **params})
    
    bird_urls = [o['contentUrl'] for o in bird_res.json()['value']]
    fai_vision.download_images(Path('./datasets')/'bird_id'/bird_name_path, urls=bird_urls)
    sleep(10)


# We'll never need the images very large, shrink them to save disk space and for efficiency
fai_vision.resize_images(
    Path("./datasets/bird_id/"), 
    dest=Path("./datasets/bird_id/"),
    max_size=400,
    recurse=True
)


bird_id = fai_data.DataBlock(
    blocks=(fai_vision.ImageBlock, fai_data.CategoryBlock),
    get_items=fai_vision.get_image_files,
    splitter=fai_data.RandomSplitter(valid_pct=0.2, seed=42),
    get_y=fai_data.parent_label,
    item_tfms=[fai_vision.RandomResizedCrop(224, min_scale=0.5)]
)
dls = bird_id.dataloaders(Path("./datasets/bird_id/"))


dls.show_batch(max_n=9, nrows=3, figsize=(8,8))
dls.show_batch(max_n=9, nrows=3, figsize=(8,8), unique=True)


learner = fai_vision.vision_learner(
    dls, fai_vision.resnet18, metrics=fai_vision.accuracy
)


learner.fine_tune(5)
