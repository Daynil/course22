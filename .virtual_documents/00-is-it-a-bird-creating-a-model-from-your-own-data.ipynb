


#NB: Kaggle requires phone verification to use the internet or a GPU. If you haven't done that yet, the cell below will fail
#    This code is only here to check that your internet is enabled. It doesn't do anything else.
#    Here's a help thread on getting your phone number verified: https://www.kaggle.com/product-feedback/135367

import socket,warnings
try:
    socket.setdefaulttimeout(1)
    socket.socket(socket.AF_INET, socket.SOCK_STREAM).connect(('1.1.1.1', 53))
except socket.error as ex: raise Exception("STOP: No internet. Click '>|' in top right and set 'Internet' switch to on")


# It's a good idea to ensure you're running the latest version of any libraries you need.
# `!pip install -Uqq <libraries>` upgrades to the latest version of <libraries>
# NB: You can safely ignore any warnings or errors pip spits out about running as root or incompatibilities
import os
iskaggle = os.environ.get('KAGGLE_KERNEL_RUN_TYPE', '')

if iskaggle:
    !pip install -Uqq fastai














# Skip this cell if you already have duckduckgo_search installed
!pip install -Uqq duckduckgo_search


from fastcore.all import *


from duckduckgo_search import ddg_images
from fastcore.all import *

def search_images(term, max_images=200):
    return L(ddg_images(term, max_results=max_images)).itemgot('image')





urls = search_images('bird photos', max_images=2)
urls[1]





from fastdownload import download_url
dest = 'bird.jpg'
download_url(urls[1], dest, show_progress=False)

from fastai.vision.all import *
im = Image.open(dest)
im.to_thumb(256,256)





download_url(search_images('forest photos', max_images=1)[0], 'forest.jpg', show_progress=False)
Image.open('forest.jpg').to_thumb(256,256)





searches = 'forest','bird'
path = Path('bird_or_not')
from time import sleep

for o in searches:
    dest = (path/o)
    dest.mkdir(exist_ok=True, parents=True)
    download_images(dest, urls=search_images(f'{o} photo'))
    sleep(10)  # Pause between searches to avoid over-loading server
    download_images(dest, urls=search_images(f'{o} sun photo'))
    sleep(10)
    download_images(dest, urls=search_images(f'{o} shade photo'))
    sleep(10)
    resize_images(path/o, max_size=400, dest=path/o)








failed = verify_images(get_image_files(path))
failed.map(Path.unlink)
len(failed)





dls = DataBlock(
    blocks=(ImageBlock, CategoryBlock), 
    get_items=get_image_files, 
    splitter=RandomSplitter(valid_pct=0.2, seed=42),
    get_y=parent_label,
    item_tfms=[Resize(192, method='squish')]
).dataloaders(path)

dls.show_batch(max_n=6)








learn = vision_learner(dls, resnet18, metrics=error_rate)
learn.fine_tune(3)











is_bird,_,probs = learn.predict(PILImage.create('bird.jpg'))
print(f"This is a: {is_bird}.")
print(f"Probability it's a bird: {probs[0]:.4f}")














import matplotlib.pyplot as plt
import wave
import numpy as np
from pathlib import Path


# Get spectrogram from wavefile and save
wave_path = './datasets/glass_break_or_not/glass_break/41348__datasoundsample__glass-shatter.wav'

with wave.open(wave_path, 'r') as sound_file:
    frames = sound_file.readframes(-1)
    sound_info = np.frombuffer(frames, dtype='int32')
    frame_rate = sound_file.getframerate()
    # plt.xlabel('Time [s]')
    # plt.ylabel('Frequency [Hz]')
    plt.figure(figsize=(6,4))
    plt.axis('off')
    plt.specgram(sound_info, Fs=frame_rate)
    plt.savefig(Path(wave_path).parent.joinpath(Path(wave_path).stem + '.png'), bbox_inches='tight')






import httpx

client_id = 'eQd5fsXp2lfwsDeteLN6'
# AKA client_secret
api_key = 'Bidwmi9LSrDPMUM2ZnDuwAjFIx6TCsmM8mvpRU8t'
auth_code = 'IDsIV7wsnsl4d9bmO3g9NcuNOmPrVF'

data = {'client_id': client_id, 'client_secret': api_key,
        'grant_type': 'authorization_code', 'code': auth_code}

auth_token_res = httpx.post('https://freesound.org/apiv2/oauth2/access_token/', params=data)
auth_token = auth_token_res.json()['access_token']
auth_token


import httpx

api_key = 'Bidwmi9LSrDPMUM2ZnDuwAjFIx6TCsmM8mvpRU8t'
auth_code = '71IROYQ2stmcHdIFZtyst444PWe887'
# curl -H "Authorization: Bearer {{ng7LVBLAMHco1oyT5l36ByebthOcSd}}" 'https://freesound.org/apiv2/sounds/14854/download/'
glass_break_ids = []
glass_break_res = httpx.get('https://freesound.org/apiv2/search/text/?filter=tag:shatter%20type:(wav)&token=' + api_key).json()
# glass_break_res
while glass_break_res['next']:
    glass_break_ids = glass_break_ids + [sound['id'] for sound in glass_break_res['results']]
    glass_break_res = httpx.get(glass_break_res['next'] + '&token=' + api_key).json()

# glass_break_ids


# grab all non glass-breaky type sounds
# other_ids_all = [sound['id'] for sound in other_res.json()['results']]
other_ids_not_glass = []
other_res = httpx.get('https://freesound.org/apiv2/search/text/?filter=type:(wav)&token=' + api_key).json()

while other_res['next'] and len(other_ids_not_glass) < 1000:
    for sound in other_res['results']:
        for tag in sound['tags']:
            if tag not in ['glass', 'shatter', 'break-glass', 'glass-shatter', 'shattering']:
                other_ids_not_glass.append(sound['id'])
                break
    other_res = httpx.get(other_res['next'] + '&token=' + api_key).json()

other_ids_not_glass


# Download Sounds

auth_header = {'Authorization': f'Bearer {auth_token}'}

test_sound_id = 41348

sound_res = httpx.get(f'https://freesound.org/apiv2/sounds/{test_sound_id}/download/',
                         headers=auth_header)

# sound_res.headers

sound_content = sound_res.content
print(type(sound_content))


from io import BytesIO

with wave.open(BytesIO(sound_content), 'r') as sound_file:
    frames = sound_file.readframes(-1)
    sampwidth = sound_file.getsampwidth()
    channels = sound_file.getnchannels()
    sound_info = np.frombuffer(frames, dtype='int32')
    frame_rate = sound_file.getframerate()
    plt.figure(figsize=(6,4))
    # plt.axis('off')
    plt.specgram(sound_info, Fs=frame_rate)

with wave.open('test.wav', 'w') as sound_file:
    sound_file.setnchannels(channels)
    sound_file.setsampwidth(sampwidth)
    sound_file.setframerate(frame_rate)
    sound_file.writeframes(frames)


from fastdownload import download_url
from fastai.vision.all import *

glass_break_res = httpx.get('https://freesound.org/apiv2/search/text/?filter=tag:shatter&fields=id,images&token=' + api_key).json()
test_res = glass_break_res['results'][0]

dest = str(test_res['id']) + '.jpg'
download_url(test_res['images']['spectral_bw_m'], dest)
im = Image.open(dest)
im.to_thumb(256,256)

# while glass_break_res['next']:
    # glass_break_ids = glass_break_ids + [sound['id'] for sound in glass_break_res['results']]
    # glass_break_res = httpx.get(glass_break_res['next'] + '&token=' + api_key).json()


glass_break_res = httpx.get('https://freesound.org/apiv2/search/text/?filter=tag:shatter&fields=id,images&token=' + api_key).json()

glass_break_path = Path('./datasets/glass_break_or_not/glass_break/')

while glass_break_res['next']:
    for sound in glass_break_res['results']:
        try:
            download_url(sound['images']['spectral_bw_m'], glass_break_path.joinpath(str(sound['id']) + '.jpg'))
        except Exception:
            continue
    glass_break_res = httpx.get(glass_break_res['next'] + '&token=' + api_key).json()


other_res = httpx.get('https://freesound.org/apiv2/search/text/?fields=id,images,tags&token=' + api_key).json()

other_path = Path('./datasets/glass_break_or_not/not/')

dl_counter = 0
while other_res['next'] and dl_counter < 1000:
    for sound in other_res['results']:
        for tag in sound['tags']:
            if tag not in ['glass', 'shatter', 'break-glass', 'glass-shatter', 'shattering']:
                try:
                    download_url(sound['images']['spectral_bw_m'], other_path.joinpath(str(sound['id']) + '.jpg'))
                    dl_counter = dl_counter + 1
                    break
                except Exception:
                    break
    other_res = httpx.get(other_res['next'] + '&fields=id,images,tags&token=' + api_key).json()


from fastai.vision.all import *

# **NOTE: Needed to set num_workers=0 here for some reason
# Even though it worked previously without this. Windows issue.
# https://github.com/fastai/fastbook/issues/85#issuecomment-614000930
dls = DataBlock(
    blocks=(ImageBlock, CategoryBlock), 
    get_items=get_image_files, 
    splitter=RandomSplitter(valid_pct=0.2, seed=42),
    get_y=parent_label,
    item_tfms=[Resize(192, method='squish')]
).dataloaders(Path('./datasets/glass_break_or_not/'), num_workers=0)

dls.show_batch(max_n=6)


learn = vision_learner(dls, resnet18, metrics=error_rate)
learn.fine_tune(4)


# Get spectrogram from wavefile and save
wave_path = './glass_break_test2.wav'

with wave.open(wave_path, 'r') as sound_file:
    frames = sound_file.readframes(-1)
    sound_info = np.frombuffer(frames, dtype='int8')
    frame_rate = sound_file.getframerate()
    # plt.xlabel('Time [s]')
    # plt.ylabel('Frequency [Hz]')
    plt.figure(figsize=(6,4))
    plt.axis('off')
    plt.specgram(sound_info, Fs=frame_rate)
    plt.savefig(Path(wave_path).parent.joinpath(Path(wave_path).stem + '.png'), bbox_inches='tight')



test_res = httpx.get('https://freesound.org/apiv2/search/text/?filter=id:130853&fields=id,images,tags&token=' + api_key).json()
test_sound = test_res['results'][0]
download_url(test_sound['images']['spectral_bw_m'], './not_glass_break_test_freesound.jpg')


is_glass,_,probs = learn.predict(PILImage.create('./not_glass_break_test_freesound.jpg'))
print(f"This is a: {is_glass}.")
print(f"Probability it's glass breaking {probs[0]:.4f}")



