{
 "cells": [
  {
   "cell_type": "code",
   "execution_count": 1,
   "metadata": {},
   "outputs": [],
   "source": [
    "import fastai.data.all as fai_data\n",
    "import fastai.vision.all as fai_vision\n",
    "import torch\n",
    "from torch.utils.data import DataLoader\n",
    "from torchvision import datasets, transforms\n",
    "from matplotlib import pyplot as plt"
   ]
  },
  {
   "cell_type": "code",
   "execution_count": 2,
   "metadata": {},
   "outputs": [
    {
     "data": {
      "text/plain": [
       "'cuda'"
      ]
     },
     "execution_count": 2,
     "metadata": {},
     "output_type": "execute_result"
    }
   ],
   "source": [
    "device = \"cuda\" if torch.cuda.is_available() else \"cpu\"\n",
    "device"
   ]
  },
  {
   "cell_type": "code",
   "execution_count": 3,
   "metadata": {},
   "outputs": [
    {
     "data": {
      "text/plain": [
       "Path('/home/daynil/.fastai/data/mnist_png')"
      ]
     },
     "execution_count": 3,
     "metadata": {},
     "output_type": "execute_result"
    }
   ],
   "source": [
    "path = fai_data.untar_data(fai_data.URLs.MNIST)\n",
    "path"
   ]
  },
  {
   "cell_type": "code",
   "execution_count": 4,
   "metadata": {},
   "outputs": [
    {
     "data": {
      "image/png": "[encoded data removed]",
      "text/plain": [
       "<Figure size 900x600 with 6 Axes>"
      ]
     },
     "metadata": {},
     "output_type": "display_data"
    }
   ],
   "source": [
    "dls = fai_vision.DataBlock(\n",
    "    blocks=(fai_vision.ImageBlock, fai_vision.CategoryBlock),\n",
    "    get_items=fai_vision.get_image_files,\n",
    "    splitter=fai_vision.GrandparentSplitter('training', 'testing'),\n",
    "    get_y=fai_vision.parent_label\n",
    ").dataloaders(path)\n",
    "dls.show_batch(max_n=6)"
   ]
  },
  {
   "cell_type": "markdown",
   "metadata": {},
   "source": [
    "## Common Code"
   ]
  },
  {
   "cell_type": "code",
   "execution_count": 5,
   "metadata": {},
   "outputs": [],
   "source": [
    "# Pixels per dimension\n",
    "px_per_dim = 28\n",
    "torch.random.manual_seed(42)\n",
    "\n",
    "def to_torch_tensor(xb: torch.Tensor, yb):\n",
    "    return torch.tensor(xb, device=device), torch.tensor(yb, device=device)\n",
    "\n",
    "def to_bw_flattened(xb):\n",
    "    return (transforms.functional\n",
    "                    .rgb_to_grayscale(xb).squeeze().view(\n",
    "                        xb.shape[0], px_per_dim**2)\n",
    "                )\n",
    "\n",
    "def to_bw_flattened_torch_tensor(batch):\n",
    "    xb, yb = batch\n",
    "    xb = torch.tensor(xb, device=device)\n",
    "    xb = to_bw_flattened(xb)\n",
    "    yb = torch.tensor(yb, device=device)\n",
    "    return xb, yb\n",
    "\n",
    "\n",
    "def accuracy(preds, yb):\n",
    "    accuracy_tns = (preds.argmax(dim=1) == yb).float()\n",
    "    return (accuracy_tns.sum() / len(accuracy_tns)).item()\n",
    "\n",
    "loss_fn = torch.nn.CrossEntropyLoss()\n",
    "\n",
    "# This is just to allow me to use to_bw_flattened within a pytorch model\n",
    "# Can ignore, conceptually\n",
    "class GrayFlatLayer(torch.nn.Module):\n",
    "    def __init__(self, lambd):\n",
    "        super().__init__()\n",
    "        self.lambd = lambd\n",
    "\n",
    "    def forward(self, x):\n",
    "        return self.lambd(x)"
   ]
  },
  {
   "cell_type": "markdown",
   "metadata": {},
   "source": [
    "## Pure Python"
   ]
  },
  {
   "cell_type": "code",
   "execution_count": 6,
   "metadata": {},
   "outputs": [
    {
     "name": "stderr",
     "output_type": "stream",
     "text": [
      "/tmp/ipykernel_13135/250536970.py:16: UserWarning: To copy construct from a tensor, it is recommended to use sourceTensor.clone().detach() or sourceTensor.clone().detach().requires_grad_(True), rather than torch.tensor(sourceTensor).\n",
      "  xb = torch.tensor(xb, device=device)\n",
      "/tmp/ipykernel_13135/250536970.py:18: UserWarning: To copy construct from a tensor, it is recommended to use sourceTensor.clone().detach() or sourceTensor.clone().detach().requires_grad_(True), rather than torch.tensor(sourceTensor).\n",
      "  yb = torch.tensor(yb, device=device)\n"
     ]
    },
    {
     "name": "stdout",
     "output_type": "stream",
     "text": [
      "Avg loss: 19.50469207763672, Avg acc: 0.4068471337579618\n",
      "Avg loss: 11.47065544128418, Avg acc: 0.5615047770700637\n",
      "Avg loss: 8.574058532714844, Avg acc: 0.6432125796178344\n",
      "Avg loss: 7.100707530975342, Avg acc: 0.6889928343949044\n",
      "Avg loss: 6.165310859680176, Avg acc: 0.7165605095541401\n",
      "Avg loss: 5.505612850189209, Avg acc: 0.7348726114649682\n",
      "Avg loss: 5.019713878631592, Avg acc: 0.7505971337579618\n",
      "Avg loss: 4.634152889251709, Avg acc: 0.7621417197452229\n",
      "Avg loss: 4.319098472595215, Avg acc: 0.7710987261146497\n",
      "Avg loss: 4.067386150360107, Avg acc: 0.7814490445859873\n",
      "Avg loss: 3.8423712253570557, Avg acc: 0.7870222929936306\n",
      "Avg loss: 3.6473357677459717, Avg acc: 0.7938893312101911\n",
      "Avg loss: 3.4826388359069824, Avg acc: 0.7984673566878981\n",
      "Avg loss: 3.3330941200256348, Avg acc: 0.8036425159235668\n",
      "Avg loss: 3.203057289123535, Avg acc: 0.8066281847133758\n"
     ]
    }
   ],
   "source": [
    "hidden_neurons = 100\n",
    "mnist_classes = 10\n",
    "\n",
    "epochs = 15\n",
    "lr = 0.001\n",
    "\n",
    "w1 = torch.randn((px_per_dim**2, hidden_neurons), requires_grad=True, device=device)\n",
    "b1 = torch.randn(hidden_neurons, requires_grad=True, device=device)\n",
    "\n",
    "w2 = torch.randn((hidden_neurons, mnist_classes), requires_grad=True, device=device)\n",
    "b2 = torch.randn(mnist_classes, requires_grad=True, device=device)\n",
    "\n",
    "def simple_net(image_batch):\n",
    "    res = image_batch@w1 + b1\n",
    "    res = torch.nn.ReLU()(res)\n",
    "    res = res@w2 + b2\n",
    "    return res\n",
    "\n",
    "def optimize():\n",
    "    params = [w1, b1, w2, b2]\n",
    "    for param in params:\n",
    "        param.data -= param.grad.data * lr\n",
    "        param.grad.zero_()\n",
    "    \n",
    "\n",
    "def train_step(xb, yb):\n",
    "    preds = simple_net(xb)\n",
    "    loss = loss_fn(preds, yb)\n",
    "    acc = accuracy(preds, yb)\n",
    "\n",
    "    loss.backward()\n",
    "    optimize()\n",
    "    return loss, acc\n",
    "\n",
    "def valid_step(xb, yb):\n",
    "    with torch.inference_mode():\n",
    "        preds = simple_net(xb)\n",
    "        loss = loss_fn(preds, yb)\n",
    "        acc = accuracy(preds, yb)\n",
    "        return loss, acc\n",
    "\n",
    "for epoch in range(epochs):\n",
    "    for batch in dls.train:\n",
    "        xb, yb = to_bw_flattened_torch_tensor(batch)\n",
    "        loss, acc = train_step(xb, yb)\n",
    "    \n",
    "    tot_loss, tot_acc = 0, 0\n",
    "    for batch in dls.valid:\n",
    "        xb, yb = to_bw_flattened_torch_tensor(batch)\n",
    "        loss, acc = valid_step(xb, yb)\n",
    "        tot_loss += loss\n",
    "        tot_acc += acc\n",
    "\n",
    "    valid_batches = len(dls.valid)\n",
    "    print(f\"Avg loss: {tot_loss / valid_batches}, Avg acc: {tot_acc / valid_batches}\")"
   ]
  },
  {
   "cell_type": "markdown",
   "metadata": {},
   "source": [
    "## Pytorch"
   ]
  },
  {
   "cell_type": "code",
   "execution_count": 18,
   "metadata": {},
   "outputs": [
    {
     "name": "stderr",
     "output_type": "stream",
     "text": [
      "/tmp/ipykernel_6710/250536970.py:16: UserWarning: To copy construct from a tensor, it is recommended to use sourceTensor.clone().detach() or sourceTensor.clone().detach().requires_grad_(True), rather than torch.tensor(sourceTensor).\n",
      "  xb = torch.tensor(xb, device=device)\n",
      "/tmp/ipykernel_6710/250536970.py:18: UserWarning: To copy construct from a tensor, it is recommended to use sourceTensor.clone().detach() or sourceTensor.clone().detach().requires_grad_(True), rather than torch.tensor(sourceTensor).\n",
      "  yb = torch.tensor(yb, device=device)\n"
     ]
    },
    {
     "name": "stdout",
     "output_type": "stream",
     "text": [
      "Avg loss: 2.1178712844848633, Avg acc: 0.5622014331210191\n",
      "Avg loss: 1.8576154708862305, Avg acc: 0.7061106687898089\n",
      "Avg loss: 1.5482885837554932, Avg acc: 0.7451234076433121\n",
      "Avg loss: 1.2592202425003052, Avg acc: 0.777468152866242\n",
      "Avg loss: 1.0387413501739502, Avg acc: 0.8054339171974523\n",
      "Avg loss: 0.8840926289558411, Avg acc: 0.8267316878980892\n",
      "Avg loss: 0.7757946848869324, Avg acc: 0.8397691082802548\n",
      "Avg loss: 0.69716876745224, Avg acc: 0.8515127388535032\n",
      "Avg loss: 0.6381869316101074, Avg acc: 0.85828025477707\n",
      "Avg loss: 0.5925345420837402, Avg acc: 0.8659434713375797\n",
      "Avg loss: 0.5561208128929138, Avg acc: 0.8709195859872612\n",
      "Avg loss: 0.526505172252655, Avg acc: 0.8750995222929936\n",
      "Avg loss: 0.5020864009857178, Avg acc: 0.8788813694267515\n",
      "Avg loss: 0.481544554233551, Avg acc: 0.8816679936305732\n",
      "Avg loss: 0.46423453092575073, Avg acc: 0.8828622611464968\n"
     ]
    }
   ],
   "source": [
    "hidden_neurons = 100\n",
    "mnist_classes = 10\n",
    "\n",
    "epochs = 15\n",
    "lr = 0.001\n",
    "\n",
    "model = torch.nn.Sequential(\n",
    "    torch.nn.Linear(px_per_dim**2, hidden_neurons),\n",
    "    torch.nn.ReLU(),\n",
    "    torch.nn.Linear(hidden_neurons, mnist_classes)\n",
    ").to(device)\n",
    "\n",
    "optimizer = torch.optim.SGD(model.parameters(), lr=lr)\n",
    "\n",
    "def train_step(xb, yb):\n",
    "    preds = model(xb)\n",
    "    loss = loss_fn(preds, yb)\n",
    "    acc = accuracy(preds, yb)\n",
    "    \n",
    "    loss.backward()\n",
    "    optimizer.step()\n",
    "    optimizer.zero_grad()\n",
    "    return loss, acc\n",
    "\n",
    "def valid_step(xb, yb):\n",
    "    preds = model(xb)\n",
    "    loss = loss_fn(preds, yb)\n",
    "    acc = accuracy(preds, yb)\n",
    "    return loss, acc\n",
    "\n",
    "for epoch in range(epochs):\n",
    "    model.train()\n",
    "    for batch in dls.train:\n",
    "        xb, yb = to_bw_flattened_torch_tensor(batch)\n",
    "        loss, acc = train_step(xb, yb)\n",
    "    \n",
    "    tot_loss, tot_acc = 0, 0\n",
    "    model.eval()\n",
    "    with torch.inference_mode():\n",
    "        for batch in dls.valid:\n",
    "            xb, yb = to_bw_flattened_torch_tensor(batch)\n",
    "            loss, acc = valid_step(xb, yb)\n",
    "            tot_loss += loss\n",
    "            tot_acc += acc\n",
    "    \n",
    "    valid_batches = len(dls.valid)\n",
    "    print(f\"Avg loss: {tot_loss / valid_batches}, Avg acc: {tot_acc / valid_batches}\")"
   ]
  },
  {
   "cell_type": "markdown",
   "metadata": {},
   "source": [
    "## Fastai"
   ]
  },
  {
   "cell_type": "code",
   "execution_count": 11,
   "metadata": {},
   "outputs": [
    {
     "data": {
      "text/html": [
       "\n",
       "<style>\n",
       "    /* Turns off some styling */\n",
       "    progress {\n",
       "        /* gets rid of default border in Firefox and Opera. */\n",
       "        border: none;\n",
       "        /* Needs to be in here for Safari polyfill so background images work as expected. */\n",
       "        background-size: auto;\n",
       "    }\n",
       "    progress:not([value]), progress:not([value])::-webkit-progress-bar {\n",
       "        background: repeating-linear-gradient(45deg, #7e7e7e, #7e7e7e 10px, #5c5c5c 10px, #5c5c5c 20px);\n",
       "    }\n",
       "    .progress-bar-interrupted, .progress-bar-interrupted::-webkit-progress-bar {\n",
       "        background: #F44336;\n",
       "    }\n",
       "</style>\n"
      ],
      "text/plain": [
       "<IPython.core.display.HTML object>"
      ]
     },
     "metadata": {},
     "output_type": "display_data"
    },
    {
     "data": {
      "text/html": [
       "<table border=\"1\" class=\"dataframe\">\n",
       "  <thead>\n",
       "    <tr style=\"text-align: left;\">\n",
       "      <th>epoch</th>\n",
       "      <th>train_loss</th>\n",
       "      <th>valid_loss</th>\n",
       "      <th>accuracy</th>\n",
       "      <th>time</th>\n",
       "    </tr>\n",
       "  </thead>\n",
       "  <tbody>\n",
       "    <tr>\n",
       "      <td>0</td>\n",
       "      <td>2.133905</td>\n",
       "      <td>2.118620</td>\n",
       "      <td>0.565000</td>\n",
       "      <td>00:09</td>\n",
       "    </tr>\n",
       "    <tr>\n",
       "      <td>1</td>\n",
       "      <td>1.877540</td>\n",
       "      <td>1.858544</td>\n",
       "      <td>0.707300</td>\n",
       "      <td>00:07</td>\n",
       "    </tr>\n",
       "    <tr>\n",
       "      <td>2</td>\n",
       "      <td>1.573797</td>\n",
       "      <td>1.549371</td>\n",
       "      <td>0.742100</td>\n",
       "      <td>00:06</td>\n",
       "    </tr>\n",
       "    <tr>\n",
       "      <td>3</td>\n",
       "      <td>1.288586</td>\n",
       "      <td>1.260185</td>\n",
       "      <td>0.775000</td>\n",
       "      <td>00:06</td>\n",
       "    </tr>\n",
       "    <tr>\n",
       "      <td>4</td>\n",
       "      <td>1.062684</td>\n",
       "      <td>1.039521</td>\n",
       "      <td>0.805000</td>\n",
       "      <td>00:06</td>\n",
       "    </tr>\n",
       "    <tr>\n",
       "      <td>5</td>\n",
       "      <td>0.919067</td>\n",
       "      <td>0.884853</td>\n",
       "      <td>0.824100</td>\n",
       "      <td>00:06</td>\n",
       "    </tr>\n",
       "    <tr>\n",
       "      <td>6</td>\n",
       "      <td>0.796627</td>\n",
       "      <td>0.776330</td>\n",
       "      <td>0.838800</td>\n",
       "      <td>00:06</td>\n",
       "    </tr>\n",
       "    <tr>\n",
       "      <td>7</td>\n",
       "      <td>0.741176</td>\n",
       "      <td>0.697940</td>\n",
       "      <td>0.849700</td>\n",
       "      <td>00:06</td>\n",
       "    </tr>\n",
       "    <tr>\n",
       "      <td>8</td>\n",
       "      <td>0.677359</td>\n",
       "      <td>0.638789</td>\n",
       "      <td>0.858600</td>\n",
       "      <td>00:06</td>\n",
       "    </tr>\n",
       "    <tr>\n",
       "      <td>9</td>\n",
       "      <td>0.619108</td>\n",
       "      <td>0.593043</td>\n",
       "      <td>0.865600</td>\n",
       "      <td>00:06</td>\n",
       "    </tr>\n",
       "    <tr>\n",
       "      <td>10</td>\n",
       "      <td>0.566866</td>\n",
       "      <td>0.556536</td>\n",
       "      <td>0.870300</td>\n",
       "      <td>00:06</td>\n",
       "    </tr>\n",
       "    <tr>\n",
       "      <td>11</td>\n",
       "      <td>0.549734</td>\n",
       "      <td>0.527069</td>\n",
       "      <td>0.875000</td>\n",
       "      <td>00:06</td>\n",
       "    </tr>\n",
       "    <tr>\n",
       "      <td>12</td>\n",
       "      <td>0.519820</td>\n",
       "      <td>0.502864</td>\n",
       "      <td>0.877900</td>\n",
       "      <td>00:06</td>\n",
       "    </tr>\n",
       "    <tr>\n",
       "      <td>13</td>\n",
       "      <td>0.500683</td>\n",
       "      <td>0.482360</td>\n",
       "      <td>0.881000</td>\n",
       "      <td>00:06</td>\n",
       "    </tr>\n",
       "    <tr>\n",
       "      <td>14</td>\n",
       "      <td>0.474606</td>\n",
       "      <td>0.464923</td>\n",
       "      <td>0.883500</td>\n",
       "      <td>00:06</td>\n",
       "    </tr>\n",
       "  </tbody>\n",
       "</table>"
      ],
      "text/plain": [
       "<IPython.core.display.HTML object>"
      ]
     },
     "metadata": {},
     "output_type": "display_data"
    }
   ],
   "source": [
    "hidden_neurons = 100\n",
    "mnist_classes = 10\n",
    "\n",
    "epochs = 15\n",
    "lr = 0.001\n",
    "\n",
    "model = torch.nn.Sequential(\n",
    "    GrayFlatLayer(transforms.Lambda(to_bw_flattened)),\n",
    "    torch.nn.Linear(px_per_dim**2, hidden_neurons),\n",
    "    torch.nn.ReLU(),\n",
    "    torch.nn.Linear(hidden_neurons, mnist_classes)\n",
    ").to(device)\n",
    "\n",
    "learner = fai_vision.Learner(\n",
    "    dls, model, lr=lr, loss_func=loss_fn, opt_func=fai_vision.SGD, metrics=fai_vision.accuracy\n",
    ")\n",
    "\n",
    "learner.fit(epochs, lr)"
   ]
  },
  {
   "cell_type": "markdown",
   "metadata": {},
   "source": [
    "## Fastai Transfer Learning"
   ]
  },
  {
   "cell_type": "code",
   "execution_count": 7,
   "metadata": {},
   "outputs": [
    {
     "data": {
      "text/html": [
       "\n",
       "<style>\n",
       "    /* Turns off some styling */\n",
       "    progress {\n",
       "        /* gets rid of default border in Firefox and Opera. */\n",
       "        border: none;\n",
       "        /* Needs to be in here for Safari polyfill so background images work as expected. */\n",
       "        background-size: auto;\n",
       "    }\n",
       "    progress:not([value]), progress:not([value])::-webkit-progress-bar {\n",
       "        background: repeating-linear-gradient(45deg, #7e7e7e, #7e7e7e 10px, #5c5c5c 10px, #5c5c5c 20px);\n",
       "    }\n",
       "    .progress-bar-interrupted, .progress-bar-interrupted::-webkit-progress-bar {\n",
       "        background: #F44336;\n",
       "    }\n",
       "</style>\n"
      ],
      "text/plain": [
       "<IPython.core.display.HTML object>"
      ]
     },
     "metadata": {},
     "output_type": "display_data"
    },
    {
     "data": {
      "text/html": [
       "<table border=\"1\" class=\"dataframe\">\n",
       "  <thead>\n",
       "    <tr style=\"text-align: left;\">\n",
       "      <th>epoch</th>\n",
       "      <th>train_loss</th>\n",
       "      <th>valid_loss</th>\n",
       "      <th>accuracy</th>\n",
       "      <th>time</th>\n",
       "    </tr>\n",
       "  </thead>\n",
       "  <tbody>\n",
       "    <tr>\n",
       "      <td>0</td>\n",
       "      <td>0.701943</td>\n",
       "      <td>0.463513</td>\n",
       "      <td>0.850000</td>\n",
       "      <td>00:13</td>\n",
       "    </tr>\n",
       "  </tbody>\n",
       "</table>"
      ],
      "text/plain": [
       "<IPython.core.display.HTML object>"
      ]
     },
     "metadata": {},
     "output_type": "display_data"
    },
    {
     "data": {
      "text/html": [
       "\n",
       "<style>\n",
       "    /* Turns off some styling */\n",
       "    progress {\n",
       "        /* gets rid of default border in Firefox and Opera. */\n",
       "        border: none;\n",
       "        /* Needs to be in here for Safari polyfill so background images work as expected. */\n",
       "        background-size: auto;\n",
       "    }\n",
       "    progress:not([value]), progress:not([value])::-webkit-progress-bar {\n",
       "        background: repeating-linear-gradient(45deg, #7e7e7e, #7e7e7e 10px, #5c5c5c 10px, #5c5c5c 20px);\n",
       "    }\n",
       "    .progress-bar-interrupted, .progress-bar-interrupted::-webkit-progress-bar {\n",
       "        background: #F44336;\n",
       "    }\n",
       "</style>\n"
      ],
      "text/plain": [
       "<IPython.core.display.HTML object>"
      ]
     },
     "metadata": {},
     "output_type": "display_data"
    },
    {
     "data": {
      "text/html": [
       "<table border=\"1\" class=\"dataframe\">\n",
       "  <thead>\n",
       "    <tr style=\"text-align: left;\">\n",
       "      <th>epoch</th>\n",
       "      <th>train_loss</th>\n",
       "      <th>valid_loss</th>\n",
       "      <th>accuracy</th>\n",
       "      <th>time</th>\n",
       "    </tr>\n",
       "  </thead>\n",
       "  <tbody>\n",
       "    <tr>\n",
       "      <td>0</td>\n",
       "      <td>0.134884</td>\n",
       "      <td>0.072383</td>\n",
       "      <td>0.977700</td>\n",
       "      <td>00:17</td>\n",
       "    </tr>\n",
       "    <tr>\n",
       "      <td>1</td>\n",
       "      <td>0.073699</td>\n",
       "      <td>0.055283</td>\n",
       "      <td>0.982400</td>\n",
       "      <td>00:17</td>\n",
       "    </tr>\n",
       "    <tr>\n",
       "      <td>2</td>\n",
       "      <td>0.046851</td>\n",
       "      <td>0.035289</td>\n",
       "      <td>0.989400</td>\n",
       "      <td>00:18</td>\n",
       "    </tr>\n",
       "    <tr>\n",
       "      <td>3</td>\n",
       "      <td>0.028342</td>\n",
       "      <td>0.026685</td>\n",
       "      <td>0.991500</td>\n",
       "      <td>00:18</td>\n",
       "    </tr>\n",
       "    <tr>\n",
       "      <td>4</td>\n",
       "      <td>0.013671</td>\n",
       "      <td>0.026875</td>\n",
       "      <td>0.992200</td>\n",
       "      <td>00:18</td>\n",
       "    </tr>\n",
       "  </tbody>\n",
       "</table>"
      ],
      "text/plain": [
       "<IPython.core.display.HTML object>"
      ]
     },
     "metadata": {},
     "output_type": "display_data"
    }
   ],
   "source": [
    "epochs = 5\n",
    "\n",
    "learner = fai_vision.vision_learner(\n",
    "    dls, fai_vision.resnet18, metrics=accuracy\n",
    ")\n",
    "\n",
    "learner.fine_tune(epochs)"
   ]
  }
 ],
 "metadata": {
  "kernelspec": {
   "display_name": "ai-base",
   "language": "python",
   "name": "python3"
  },
  "language_info": {
   "codemirror_mode": {
    "name": "ipython",
    "version": 3
   },
   "file_extension": ".py",
   "mimetype": "text/x-python",
   "name": "python",
   "nbconvert_exporter": "python",
   "pygments_lexer": "ipython3",
   "version": "3.11.6"
  }
 },
 "nbformat": 4,
 "nbformat_minor": 2
}
